{
 "cells": [
  {
   "cell_type": "markdown",
   "metadata": {},
   "source": [
    "# Exploratory Data Analysis"
   ]
  },
  {
   "cell_type": "code",
   "execution_count": 1,
   "metadata": {},
   "outputs": [],
   "source": [
    "#import relevent packages\n",
    "import numpy as np\n",
    "import pandas as pd\n",
    "import matplotlib.pyplot as plt\n",
    "import seaborn as sns"
   ]
  },
  {
   "cell_type": "code",
   "execution_count": 3,
   "metadata": {},
   "outputs": [],
   "source": [
    "#load datasets\n",
    "data113 = pd.read_csv('data/data113.csv')\n",
    "data114 = pd.read_csv('data/data114.csv')\n",
    "data115 = pd.read_csv('data/data115.csv')"
   ]
  },
  {
   "cell_type": "code",
   "execution_count": 4,
   "metadata": {},
   "outputs": [
    {
     "name": "stdout",
     "output_type": "stream",
     "text": [
      "(18013, 38)\n"
     ]
    },
    {
     "data": {
      "text/html": [
       "<div>\n",
       "<style scoped>\n",
       "    .dataframe tbody tr th:only-of-type {\n",
       "        vertical-align: middle;\n",
       "    }\n",
       "\n",
       "    .dataframe tbody tr th {\n",
       "        vertical-align: top;\n",
       "    }\n",
       "\n",
       "    .dataframe thead th {\n",
       "        text-align: right;\n",
       "    }\n",
       "</style>\n",
       "<table border=\"1\" class=\"dataframe\">\n",
       "  <thead>\n",
       "    <tr style=\"text-align: right;\">\n",
       "      <th></th>\n",
       "      <th>bill_id</th>\n",
       "      <th>bill_slug</th>\n",
       "      <th>title</th>\n",
       "      <th>short_title</th>\n",
       "      <th>sponsor_title</th>\n",
       "      <th>sponsor_id</th>\n",
       "      <th>sponsor_name</th>\n",
       "      <th>sponsor_party</th>\n",
       "      <th>introduced_date</th>\n",
       "      <th>active</th>\n",
       "      <th>...</th>\n",
       "      <th>subcommittee_codes_y</th>\n",
       "      <th>subcommittee_side</th>\n",
       "      <th>subcommittee_rank_in_party</th>\n",
       "      <th>id</th>\n",
       "      <th>gender</th>\n",
       "      <th>leadership_role</th>\n",
       "      <th>seniority</th>\n",
       "      <th>missed_votes_pct</th>\n",
       "      <th>votes_with_party_pct</th>\n",
       "      <th>votes_against_party_pct</th>\n",
       "    </tr>\n",
       "  </thead>\n",
       "  <tbody>\n",
       "    <tr>\n",
       "      <td>0</td>\n",
       "      <td>hr5893-113</td>\n",
       "      <td>hr5893</td>\n",
       "      <td>To restore the First Amendment Rights of Photo...</td>\n",
       "      <td>Ansel Adams Act</td>\n",
       "      <td>Rep.</td>\n",
       "      <td>S000937</td>\n",
       "      <td>Steve Stockman</td>\n",
       "      <td>R</td>\n",
       "      <td>2015-01-02</td>\n",
       "      <td>False</td>\n",
       "      <td>...</td>\n",
       "      <td>[]</td>\n",
       "      <td>[]</td>\n",
       "      <td>[]</td>\n",
       "      <td>S000937</td>\n",
       "      <td>M</td>\n",
       "      <td>NaN</td>\n",
       "      <td>2</td>\n",
       "      <td>5.90</td>\n",
       "      <td>85.58</td>\n",
       "      <td>14.34</td>\n",
       "    </tr>\n",
       "    <tr>\n",
       "      <td>1</td>\n",
       "      <td>hr5892-113</td>\n",
       "      <td>hr5892</td>\n",
       "      <td>To protect cryptocurrencies.</td>\n",
       "      <td>Online Market Protection Act of 2014</td>\n",
       "      <td>Rep.</td>\n",
       "      <td>S000937</td>\n",
       "      <td>Steve Stockman</td>\n",
       "      <td>R</td>\n",
       "      <td>2015-01-02</td>\n",
       "      <td>False</td>\n",
       "      <td>...</td>\n",
       "      <td>[]</td>\n",
       "      <td>[]</td>\n",
       "      <td>[]</td>\n",
       "      <td>S000937</td>\n",
       "      <td>M</td>\n",
       "      <td>NaN</td>\n",
       "      <td>2</td>\n",
       "      <td>5.90</td>\n",
       "      <td>85.58</td>\n",
       "      <td>14.34</td>\n",
       "    </tr>\n",
       "    <tr>\n",
       "      <td>2</td>\n",
       "      <td>hr5891-113</td>\n",
       "      <td>hr5891</td>\n",
       "      <td>To increase the standards of school lunch prog...</td>\n",
       "      <td>Michelle Obama Nutritional Act</td>\n",
       "      <td>Rep.</td>\n",
       "      <td>S000937</td>\n",
       "      <td>Steve Stockman</td>\n",
       "      <td>R</td>\n",
       "      <td>2015-01-02</td>\n",
       "      <td>False</td>\n",
       "      <td>...</td>\n",
       "      <td>[]</td>\n",
       "      <td>[]</td>\n",
       "      <td>[]</td>\n",
       "      <td>S000937</td>\n",
       "      <td>M</td>\n",
       "      <td>NaN</td>\n",
       "      <td>2</td>\n",
       "      <td>5.90</td>\n",
       "      <td>85.58</td>\n",
       "      <td>14.34</td>\n",
       "    </tr>\n",
       "    <tr>\n",
       "      <td>3</td>\n",
       "      <td>hr5890-113</td>\n",
       "      <td>hr5890</td>\n",
       "      <td>To conduct a study to ensure that enhanced com...</td>\n",
       "      <td>No Missing Planes Act</td>\n",
       "      <td>Rep.</td>\n",
       "      <td>J000032</td>\n",
       "      <td>Sheila Jackson Lee</td>\n",
       "      <td>D</td>\n",
       "      <td>2015-01-02</td>\n",
       "      <td>False</td>\n",
       "      <td>...</td>\n",
       "      <td>[]</td>\n",
       "      <td>[]</td>\n",
       "      <td>[]</td>\n",
       "      <td>J000032</td>\n",
       "      <td>F</td>\n",
       "      <td>NaN</td>\n",
       "      <td>20</td>\n",
       "      <td>7.48</td>\n",
       "      <td>93.85</td>\n",
       "      <td>6.06</td>\n",
       "    </tr>\n",
       "    <tr>\n",
       "      <td>4</td>\n",
       "      <td>hr5889-113</td>\n",
       "      <td>hr5889</td>\n",
       "      <td>To revise the Uniform Crime Reports, and the N...</td>\n",
       "      <td>Justifiable Homicide Accuracy in Reporting Act...</td>\n",
       "      <td>Rep.</td>\n",
       "      <td>J000032</td>\n",
       "      <td>Sheila Jackson Lee</td>\n",
       "      <td>D</td>\n",
       "      <td>2015-01-02</td>\n",
       "      <td>False</td>\n",
       "      <td>...</td>\n",
       "      <td>[]</td>\n",
       "      <td>[]</td>\n",
       "      <td>[]</td>\n",
       "      <td>J000032</td>\n",
       "      <td>F</td>\n",
       "      <td>NaN</td>\n",
       "      <td>20</td>\n",
       "      <td>7.48</td>\n",
       "      <td>93.85</td>\n",
       "      <td>6.06</td>\n",
       "    </tr>\n",
       "  </tbody>\n",
       "</table>\n",
       "<p>5 rows × 38 columns</p>\n",
       "</div>"
      ],
      "text/plain": [
       "      bill_id bill_slug                                              title  \\\n",
       "0  hr5893-113    hr5893  To restore the First Amendment Rights of Photo...   \n",
       "1  hr5892-113    hr5892                       To protect cryptocurrencies.   \n",
       "2  hr5891-113    hr5891  To increase the standards of school lunch prog...   \n",
       "3  hr5890-113    hr5890  To conduct a study to ensure that enhanced com...   \n",
       "4  hr5889-113    hr5889  To revise the Uniform Crime Reports, and the N...   \n",
       "\n",
       "                                         short_title sponsor_title sponsor_id  \\\n",
       "0                                    Ansel Adams Act          Rep.    S000937   \n",
       "1               Online Market Protection Act of 2014          Rep.    S000937   \n",
       "2                     Michelle Obama Nutritional Act          Rep.    S000937   \n",
       "3                              No Missing Planes Act          Rep.    J000032   \n",
       "4  Justifiable Homicide Accuracy in Reporting Act...          Rep.    J000032   \n",
       "\n",
       "         sponsor_name sponsor_party introduced_date  active  ...  \\\n",
       "0      Steve Stockman             R      2015-01-02   False  ...   \n",
       "1      Steve Stockman             R      2015-01-02   False  ...   \n",
       "2      Steve Stockman             R      2015-01-02   False  ...   \n",
       "3  Sheila Jackson Lee             D      2015-01-02   False  ...   \n",
       "4  Sheila Jackson Lee             D      2015-01-02   False  ...   \n",
       "\n",
       "  subcommittee_codes_y subcommittee_side subcommittee_rank_in_party       id  \\\n",
       "0                   []                []                         []  S000937   \n",
       "1                   []                []                         []  S000937   \n",
       "2                   []                []                         []  S000937   \n",
       "3                   []                []                         []  J000032   \n",
       "4                   []                []                         []  J000032   \n",
       "\n",
       "  gender  leadership_role seniority missed_votes_pct votes_with_party_pct  \\\n",
       "0      M              NaN         2             5.90                85.58   \n",
       "1      M              NaN         2             5.90                85.58   \n",
       "2      M              NaN         2             5.90                85.58   \n",
       "3      F              NaN        20             7.48                93.85   \n",
       "4      F              NaN        20             7.48                93.85   \n",
       "\n",
       "  votes_against_party_pct  \n",
       "0                   14.34  \n",
       "1                   14.34  \n",
       "2                   14.34  \n",
       "3                    6.06  \n",
       "4                    6.06  \n",
       "\n",
       "[5 rows x 38 columns]"
      ]
     },
     "execution_count": 4,
     "metadata": {},
     "output_type": "execute_result"
    }
   ],
   "source": [
    "#merge datasets\n",
    "data = pd.concat([data113, data114, data115])\n",
    "print(data.shape)\n",
    "data.head()"
   ]
  },
  {
   "cell_type": "markdown",
   "metadata": {},
   "source": [
    "We have just over 18,000 observations (bills) from the 113th, 114th, and 115th congresses. Each observation should have 38 features but several columns appear to be almost entirely empty"
   ]
  },
  {
   "cell_type": "code",
   "execution_count": 5,
   "metadata": {},
   "outputs": [
    {
     "name": "stdout",
     "output_type": "stream",
     "text": [
      "<class 'pandas.core.frame.DataFrame'>\n",
      "Int64Index: 18013 entries, 0 to 7393\n",
      "Data columns (total 38 columns):\n",
      "bill_id                       18013 non-null object\n",
      "bill_slug                     18013 non-null object\n",
      "title                         18013 non-null object\n",
      "short_title                   18013 non-null object\n",
      "sponsor_title                 18013 non-null object\n",
      "sponsor_id                    18013 non-null object\n",
      "sponsor_name                  18013 non-null object\n",
      "sponsor_party                 18013 non-null object\n",
      "introduced_date               18013 non-null object\n",
      "active                        18013 non-null bool\n",
      "last_vote                     876 non-null object\n",
      "house_passage                 2112 non-null object\n",
      "senate_passage                636 non-null object\n",
      "enacted                       559 non-null object\n",
      "vetoed                        2 non-null object\n",
      "cosponsors                    18013 non-null int64\n",
      "cosponsors_by_party           18013 non-null object\n",
      "committee_codes_x             18013 non-null object\n",
      "subcommittee_codes_x          18013 non-null object\n",
      "primary_subject               17923 non-null object\n",
      "summary                       15916 non-null object\n",
      "summary_short                 15916 non-null object\n",
      "latest_major_action_date      18013 non-null object\n",
      "latest_major_action           18013 non-null object\n",
      "congress                      18013 non-null int64\n",
      "committee_codes_y             18013 non-null object\n",
      "committee_side                7434 non-null object\n",
      "committee_rank_in_party       18013 non-null object\n",
      "subcommittee_codes_y          18013 non-null object\n",
      "subcommittee_side             18013 non-null object\n",
      "subcommittee_rank_in_party    18013 non-null object\n",
      "id                            18013 non-null object\n",
      "gender                        18013 non-null object\n",
      "leadership_role               109 non-null object\n",
      "seniority                     18013 non-null int64\n",
      "missed_votes_pct              17754 non-null float64\n",
      "votes_with_party_pct          17754 non-null float64\n",
      "votes_against_party_pct       17698 non-null float64\n",
      "dtypes: bool(1), float64(3), int64(3), object(31)\n",
      "memory usage: 5.2+ MB\n"
     ]
    }
   ],
   "source": [
    "data.info()"
   ]
  },
  {
   "cell_type": "markdown",
   "metadata": {},
   "source": [
    "We can see that of the 18,013 house bills introduced over these 3 congresses, only about 2,000 passed the house. Roughly 600 of those bills were also passed by the senate and 550 were enacted."
   ]
  },
  {
   "cell_type": "code",
   "execution_count": 42,
   "metadata": {},
   "outputs": [
    {
     "data": {
      "image/png": "[encoded data removed]",
      "text/plain": [
       "<Figure size 432x288 with 2 Axes>"
      ]
     },
     "metadata": {},
     "output_type": "display_data"
    }
   ],
   "source": [
    "#We will now plot the number of bills which attain each stage of passage to get an idea of the strictness of the funnel\n",
    "sns.set()\n",
    "introduced = data[['bill_id', 'congress']].groupby(['congress']).count()\n",
    "active = data[['active', 'congress']].groupby(['congress']).sum()\n",
    "passed_house = data[['house_passage', 'congress']].groupby(['congress']).count()\n",
    "passed_senate = data[['senate_passage', 'congress']].groupby(['congress']).count()\n",
    "enacted = data[['enacted', 'congress']].groupby(['congress']).count()\n",
    "\n",
    "#setting variable values\n",
    "x = np.array([1,2,3])\n",
    "i = introduced['bill_id']\n",
    "j = active['active']\n",
    "k = passed_house['house_passage']\n",
    "l = passed_senate['senate_passage']\n",
    "m = enacted['enacted']\n",
    "\n",
    "#plotting and labeling\n",
    "ax = plt.subplot(211)\n",
    "w = 0.18\n",
    "ax.bar(x-2*w, i, width=w, align='center', label = 'Introduced')\n",
    "ax.bar(x-w, j, width=w, align='center', label = 'Passed Committee')\n",
    "ax.bar(x, k, width=w, align='center', label = 'Passed House')\n",
    "ax.bar(x+w, l, width=w, align='center', label = 'Passed Senate')\n",
    "ax.bar(x+2*w, m, width=w, align='center', label = 'Enacted')\n",
    "\n",
    "plt.xlabel('Congress', fontweight = 'bold')\n",
    "plt.xticks(x, ['113th', '114th', '115th'])\n",
    "plt.ylabel('Number of Bills', fontweight = 'bold')\n",
    "plt.legend(bbox_to_anchor = (1.5, .97))\n",
    "\n",
    "ax1 = plt.subplot(212)\n",
    "w = 0.18\n",
    "ax1.bar(x-2*w, i, width=w, align='center', label = 'Introduced')\n",
    "ax1.bar(x-w, j, width=w, align='center', label = 'Passed Committee')\n",
    "ax1.bar(x, k, width=w, align='center', label = 'Passed House')\n",
    "ax1.bar(x+w, l, width=w, align='center', label = 'Passed Senate')\n",
    "ax1.bar(x+2*w, m, width=w, align='center', label = 'Enacted')\n",
    "\n",
    "plt.xlabel('Congress', fontweight = 'bold')\n",
    "plt.xticks(x, ['113th', '114th', '115th'])\n",
    "plt.ylabel('Number of Bills', fontweight = 'bold')\n",
    "plt.yscale('log')\n",
    "plt.yticks([10,100,1000,10000])\n",
    "plt.show()"
   ]
  },
  {
   "cell_type": "markdown",
   "metadata": {},
   "source": [
    "The top graph above displays a linear scale and reveals the vanishingly small number of bills which are enacted each year compared to the thousands of bills introduced (note: this data is for house bills only). The second graph uses a logarithmic scale and shows that the number of bills which proceed to the next stage of passage appears to be roughly proportional to the number of bills in the proceeding stage. This suggests a possible poisson distribution where each bill is an instance which has some small chance of being passed."
   ]
  },
  {
   "cell_type": "code",
   "execution_count": 56,
   "metadata": {},
   "outputs": [
    {
     "name": "stdout",
     "output_type": "stream",
     "text": [
      "Chi Squared Total:  245.0172493929171\n"
     ]
    },
    {
     "data": {
      "image/png": "[encoded data removed]",
      "text/plain": [
       "<Figure size 432x288 with 1 Axes>"
      ]
     },
     "metadata": {},
     "output_type": "display_data"
    }
   ],
   "source": [
    "#We next test the goodness of fit for a poisson distribution. \n",
    "#From 1979 - 2018 (96th through 115th congress), 124,132 bills were introduced\n",
    "#Over the same time period, 5,716 bills became law.\n",
    "passage_rate = 5716/124132 # = 4.605% chance\n",
    "\n",
    "#calculate observed and expected counts\n",
    "introduced = [8455, 7457, 6442, 5743, 5585, 5977, 6212, 5310, 4344, 4874, 5681, 5767,\n",
    "              5431, 6436, 7340, 6570, 6729, 5893, 6536, 7401]\n",
    "introduced = np.array(introduced)\n",
    "expected = passage_rate*introduced\n",
    "\n",
    "enacted = [422, 267, 305, 256, 362, 294, 305, 259, 233, 237, 368, 288, 334, 316, 308, 254,\n",
    "          199, 209, 216, 284]\n",
    "observed = np.array(enacted)\n",
    "\n",
    "#calculate and plot chi squared values\n",
    "chi_squared = np.sum(((observed - expected)**2)/expected)\n",
    "print('Chi Squared Total: ', chi_squared)\n",
    "sns.barplot(x = np.arange(20), y= (observed - expected)**2/expected)\n",
    "plt.xticks(np.arange(0,20,2), [congress for congress in range(96,116, 2)])\n",
    "plt.xlabel('Congress', fontweight = 'bold')\n",
    "plt.title('Chi Squared Values', fontweight = 'bold')\n",
    "plt.show()"
   ]
  },
  {
   "cell_type": "markdown",
   "metadata": {},
   "source": [
    "This Chi-Squared value suggests that the poisson distribution is not a good explanation for the number of bills passed each year. This is encouraging for our analysis as it suggests that there are variables which significantly inlfuence whether or not a bill will be passed and so it may be possible to find a relatively strong signal. Had the data followed a poisson distribution, we would have expected each bill to have roughly the same likelihood of passage regardless of other factors."
   ]
  },
  {
   "cell_type": "code",
   "execution_count": 65,
   "metadata": {},
   "outputs": [],
   "source": [
    "data['enacted'] = pd.to_datetime(data['enacted'])"
   ]
  },
  {
   "cell_type": "code",
   "execution_count": 66,
   "metadata": {},
   "outputs": [],
   "source": [
    "data['introduced_date'] = pd.to_datetime(data['introduced_date'])"
   ]
  },
  {
   "cell_type": "code",
   "execution_count": 67,
   "metadata": {},
   "outputs": [],
   "source": [
    "data['time_delta'] = data['enacted'] - data['introduced_date']"
   ]
  },
  {
   "cell_type": "code",
   "execution_count": 104,
   "metadata": {},
   "outputs": [
    {
     "data": {
      "image/png": "[encoded data removed]",
      "text/plain": [
       "<Figure size 432x288 with 1 Axes>"
      ]
     },
     "metadata": {},
     "output_type": "display_data"
    }
   ],
   "source": [
    "time_delta = (data.time_delta[data.time_delta.notna()] / np.timedelta64(1, 'D')).astype(int)\n",
    "time_delta.hist(bins = 100, density = True)\n",
    "x = np.linspace(0,730, 730)\n",
    "plt.plot(x, (1/time_delta.mean())*np.exp(-(1/time_delta.mean())*x))\n",
    "plt.xlabel('Time Between Bill Introduction and Passage (Days)', fontweight = 'bold')\n",
    "plt.ylabel('Frequency', fontweight = 'bold')\n",
    "plt.show()"
   ]
  },
  {
   "cell_type": "markdown",
   "metadata": {},
   "source": [
    "We see that a bill has less chance of being passed the longer it has been since the bill's introduction. However, the dustribution is not well modeled by an exponential distribution. In fact, the distribution seems to follow a periodicdecay with frequent spikes."
   ]
  },
  {
   "cell_type": "code",
   "execution_count": 109,
   "metadata": {},
   "outputs": [
    {
     "data": {
      "text/plain": [
       "array(['2013-01-03T00:00:00.000000000', '2015-01-06T00:00:00.000000000',\n",
       "       '2017-01-03T00:00:00.000000000'], dtype='datetime64[ns]')"
      ]
     },
     "execution_count": 109,
     "metadata": {},
     "output_type": "execute_result"
    }
   ],
   "source": [
    "#Insert the start date of the first legislative sesion for each congress\n",
    "data['session_start_1'] = ''\n",
    "data.loc[data.congress == 113, 'session_start_1'] = '2013-01-03'\n",
    "data.loc[data.congress == 114, 'session_start_1'] = '2015-01-06'\n",
    "data.loc[data.congress == 115, 'session_start_1'] = '2017-01-03'\n",
    "data['session_start_1'] = pd.to_datetime(data['session_start_1'])\n",
    "data['session_start_1'].unique()"
   ]
  },
  {
   "cell_type": "code",
   "execution_count": 110,
   "metadata": {},
   "outputs": [
    {
     "data": {
      "text/plain": [
       "array(['2013-12-26T00:00:00.000000000', '2015-12-18T00:00:00.000000000',\n",
       "       '2018-01-03T00:00:00.000000000'], dtype='datetime64[ns]')"
      ]
     },
     "execution_count": 110,
     "metadata": {},
     "output_type": "execute_result"
    }
   ],
   "source": [
    "#Insert the end date of the first legislative sesion for each congress\n",
    "data['session_end_1'] = ''\n",
    "data.loc[data.congress == 113, 'session_end_1'] = '2013-12-26'\n",
    "data.loc[data.congress == 114, 'session_end_1'] = '2015-12-18'\n",
    "data.loc[data.congress == 115, 'session_end_1'] = '2018-01-03'\n",
    "data['session_end_1'] = pd.to_datetime(data['session_end_1'])\n",
    "data['session_end_1'].unique()"
   ]
  },
  {
   "cell_type": "code",
   "execution_count": 111,
   "metadata": {},
   "outputs": [
    {
     "data": {
      "text/plain": [
       "array(['2014-01-03T00:00:00.000000000', '2016-01-04T00:00:00.000000000',\n",
       "       '2018-01-03T00:00:00.000000000'], dtype='datetime64[ns]')"
      ]
     },
     "execution_count": 111,
     "metadata": {},
     "output_type": "execute_result"
    }
   ],
   "source": [
    "#Insert the start date of the second legislative sesion for each congress\n",
    "data['session_start_2'] = ''\n",
    "data.loc[data.congress == 113, 'session_start_2'] = '2014-01-03'\n",
    "data.loc[data.congress == 114, 'session_start_2'] = '2016-01-04'\n",
    "data.loc[data.congress == 115, 'session_start_2'] = '2018-01-03'\n",
    "data['session_start_2'] = pd.to_datetime(data['session_start_2'])\n",
    "data['session_start_2'].unique()"
   ]
  },
  {
   "cell_type": "code",
   "execution_count": 112,
   "metadata": {},
   "outputs": [
    {
     "data": {
      "text/plain": [
       "array(['2014-12-16T00:00:00.000000000', '2017-01-03T00:00:00.000000000',\n",
       "       '2019-01-03T00:00:00.000000000'], dtype='datetime64[ns]')"
      ]
     },
     "execution_count": 112,
     "metadata": {},
     "output_type": "execute_result"
    }
   ],
   "source": [
    "#Insert the end date of the second legislative sesion for each congress\n",
    "data['session_end_2'] = ''\n",
    "data.loc[data.congress == 113, 'session_end_2'] = '2014-12-16'\n",
    "data.loc[data.congress == 114, 'session_end_2'] = '2017-01-03'\n",
    "data.loc[data.congress == 115, 'session_end_2'] = '2019-01-03'\n",
    "data['session_end_2'] = pd.to_datetime(data['session_end_2'])\n",
    "data['session_end_2'].unique()"
   ]
  },
  {
   "cell_type": "code",
   "execution_count": 123,
   "metadata": {},
   "outputs": [
    {
     "data": {
      "text/plain": [
       "Text(0, 0.5, 'Number of Bills')"
      ]
     },
     "execution_count": 123,
     "metadata": {},
     "output_type": "execute_result"
    },
    {
     "data": {
      "image/png": "[encoded data removed]",
      "text/plain": [
       "<Figure size 432x288 with 1 Axes>"
      ]
     },
     "metadata": {},
     "output_type": "display_data"
    }
   ],
   "source": [
    "#Determine Which session each bill was introduced in\n",
    "data['session_introduced'] = ''\n",
    "session_1 = data['introduced_date'] <= data['session_end_1']\n",
    "data.loc[session_1, 'session_introduced'] = 1\n",
    "\n",
    "session_2 = (data['introduced_date'] > data['session_end_1'])\n",
    "data.loc[session_2, 'session_introduced'] = 2\n",
    "    \n",
    "data['session_introduced'].hist(bins = 2)\n",
    "plt.xlabel('Session Introduced')\n",
    "plt.xticks([1.25,1.75], ['1st', '2nd'])\n",
    "plt.ylabel('Number of Bills')"
   ]
  },
  {
   "cell_type": "markdown",
   "metadata": {},
   "source": [
    "As we can see, about 50% more bills are introduced in the first session than in the second. We are now going to examine at what point in the session most bills are introduced, the fraction of bills which pass each session, and if any bills are passed after the end of one congress."
   ]
  },
  {
   "cell_type": "code",
   "execution_count": 142,
   "metadata": {},
   "outputs": [],
   "source": [
    "#When are most bills introduced in the session\n",
    "data['introduced_frac'] = ''\n",
    "\n",
    "frac_1 = ((data.introduced_date - data.session_start_1) / (data.session_end_1 - data.session_start_1))\n",
    "frac_2 = ((data.introduced_date - data.session_start_2) / (data.session_end_2 - data.session_start_2))\n",
    "session_1 = data['session_introduced'] == 1\n",
    "session_2 = ~session_1\n",
    "\n",
    "data.loc[data.session_introduced == 1, 'introduced_frac'] = frac_1[session_1]\n",
    "data.loc[data.session_introduced == 2, 'introduced_frac'] = frac_2[session_2]"
   ]
  },
  {
   "cell_type": "code",
   "execution_count": 149,
   "metadata": {},
   "outputs": [
    {
     "data": {
      "text/plain": [
       "Text(0.5, 1.0, '2nd Session')"
      ]
     },
     "execution_count": 149,
     "metadata": {},
     "output_type": "execute_result"
    },
    {
     "data": {
      "image/png": "[encoded data removed]",
      "text/plain": [
       "<Figure size 432x288 with 2 Axes>"
      ]
     },
     "metadata": {},
     "output_type": "display_data"
    }
   ],
   "source": [
    "ax1 = plt.subplot(121)\n",
    "data.loc[data.session_introduced == 1, 'introduced_frac'].hist(bins = 30)\n",
    "plt.xlabel('Fraction of Session', fontweight = 'bold')\n",
    "plt.ylabel('Bills Introduced', fontweight = 'bold')\n",
    "plt.title('1st Session', fontweight = 'bold')\n",
    "\n",
    "ax2 = plt.subplot(122)\n",
    "data.loc[data.session_introduced == 2, 'introduced_frac'].hist(bins = 30)\n",
    "plt.xlabel('Fraction of Session', fontweight = 'bold')\n",
    "plt.title('2nd Session', fontweight = 'bold')\n"
   ]
  },
  {
   "cell_type": "markdown",
   "metadata": {},
   "source": [
    "As we can see, most bills are introduced on the first day of the first session of congress. The number of bills introduced lowers as the end of the session approaches. The second session sees a spike in bills near the middle before tapering off as well. The overall lower frequency of bills during the second session may be explained by congresspeople focussing on their upcoming campaign while the spikes in each session are likely due congresspeople responding to constituents following a recess."
   ]
  },
  {
   "cell_type": "code",
   "execution_count": 181,
   "metadata": {},
   "outputs": [
    {
     "name": "stdout",
     "output_type": "stream",
     "text": [
      "Overall Bills Enacted:  559\n",
      "Bills Enacted from Session 1:  377\n",
      "Percent Enacted from Session 1: 3.42%\n",
      "Bills Enacted from Session 2:  182\n",
      "Percent Enacted from Session 2: 2.61%\n"
     ]
    }
   ],
   "source": [
    "print('Overall Bills Enacted: ', data['enacted'].count())\n",
    "\n",
    "session_1_enacted= data[data.session_introduced == 1]['enacted'].count()\n",
    "session_1_introduced = data[data.session_introduced == 1]['bill_id'].count()\n",
    "session_1_pct = 100* session_1_enacted / session_1_introduced\n",
    "print('Bills Enacted from Session 1: ', session_1_enacted)\n",
    "print('Percent Enacted from Session 1: %s%%' % np.round(session_1_pct, 2))\n",
    "\n",
    "session_2_enacted = data[data.session_introduced == 2]['enacted'].count()\n",
    "session_2_introduced = data[data.session_introduced == 2]['bill_id'].count()\n",
    "session_2_pct = 100* session_2_enacted / session_2_introduced\n",
    "print('Bills Enacted from Session 2: ', session_2_enacted)\n",
    "print('Percent Enacted from Session 2: %s%%' % np.round(session_2_pct,2))\n"
   ]
  },
  {
   "cell_type": "markdown",
   "metadata": {},
   "source": [
    "As we can see, there is about a 0.8% greater chance that a bill will pass during session 1 than session 2 of a congress. To confirm that this difference represents an actual shift in probability, we will conduct a quick bootstrapping test."
   ]
  },
  {
   "cell_type": "code",
   "execution_count": 194,
   "metadata": {},
   "outputs": [],
   "source": [
    "data['permutation'] = ''\n",
    "observed_diff = session_1_pct - session_2_pct\n",
    "trial_diffs = []\n",
    "session_1s = []\n",
    "session_2s = []\n",
    "for i in range(10000):\n",
    "    data['permutation'] = np.random.permutation(data.session_introduced)\n",
    "    session_1_percent = 100* data[data.permutation == 1]['enacted'].count() / session_1_introduced\n",
    "    session_2_percent = 100* data[data.permutation == 2]['enacted'].count() / session_2_introduced\n",
    "    trial_diff = session_1_percent - session_2_percent\n",
    "    trial_diffs.append(trial_diff)\n",
    "    session_1s.append(session_1_percent)\n",
    "    session_2s.append(session_2_percent)"
   ]
  },
  {
   "cell_type": "code",
   "execution_count": 197,
   "metadata": {},
   "outputs": [
    {
     "name": "stdout",
     "output_type": "stream",
     "text": [
      "16\n"
     ]
    },
    {
     "data": {
      "image/png": "[encoded data removed]",
      "text/plain": [
       "<Figure size 432x288 with 1 Axes>"
      ]
     },
     "metadata": {},
     "output_type": "display_data"
    }
   ],
   "source": [
    "plt.hist(trial_diffs, bins = 100, density = True)\n",
    "print(sum([i >= observed_diff for i in trial_diffs]))"
   ]
  },
  {
   "cell_type": "markdown",
   "metadata": {},
   "source": [
    "The value of 16 above indicates that out of 10,000 random permutation trials, only 16 resulted in an a difference in percentage of bills enacted at least as great as what was observed. This suggests that, had the data come from a random distribution, meaning the session the bill was introduced has no influence on a bills enactment, we would expect to see our observed difference about 0.16% of the time. This leads us to believe that this is not a good explanation for the data and that the session in which the bill is introduced has some influence on whether a bill is enacted."
   ]
  },
  {
   "cell_type": "code",
   "execution_count": 202,
   "metadata": {},
   "outputs": [
    {
     "name": "stdout",
     "output_type": "stream",
     "text": [
      "Number of Bills Enacted After the End of the Current Congress:  17\n",
      "Number of Bills Passed in Senate After the End of the Current Congress:  0\n",
      "Number of Bills Passed in House After the End of the Current Congress:  0\n"
     ]
    }
   ],
   "source": [
    "#lastly, we look to see if any bills are enacted after the end of the current congress\n",
    "data['senate_passage'] = pd.to_datetime(data['senate_passage'])\n",
    "data['house_passage'] = pd.to_datetime(data['house_passage'])\n",
    "print('Number of Bills Enacted After the End of the Current Congress: ', data[data.enacted > data.session_end_2]['bill_id'].count())\n",
    "print('Number of Bills Passed in Senate After the End of the Current Congress: ', data[data.senate_passage > data.session_end_2]['bill_id'].count())\n",
    "print('Number of Bills Passed in House After the End of the Current Congress: ', data[data.house_passage > data.session_end_2]['bill_id'].count())\n"
   ]
  },
  {
   "cell_type": "markdown",
   "metadata": {},
   "source": [
    "Therefore, we see that while a bill may be enacted after the end of the current congress (signed by the president during their last days in office), no bill which is not passed by the current congress is ever taken up and passed by the succeeding congress."
   ]
  },
  {
   "cell_type": "code",
   "execution_count": 208,
   "metadata": {},
   "outputs": [],
   "source": [
    "#Do a quick pairplot\n",
    "data = data.drop(columns = ['permutation', 'permutaion'])"
   ]
  },
  {
   "cell_type": "markdown",
   "metadata": {},
   "source": [
    "Due to the categorical nature of nearly all variables, there is no information to be gained from a correlation heatmap or pairplot at this time"
   ]
  },
  {
   "cell_type": "code",
   "execution_count": 209,
   "metadata": {},
   "outputs": [],
   "source": [
    "data.to_csv('data/data.csv')"
   ]
  },
  {
   "cell_type": "code",
   "execution_count": null,
   "metadata": {},
   "outputs": [],
   "source": []
  }
 ],
 "metadata": {
  "kernelspec": {
   "display_name": "Python 3",
   "language": "python",
   "name": "python3"
  },
  "language_info": {
   "codemirror_mode": {
    "name": "ipython",
    "version": 3
   },
   "file_extension": ".py",
   "mimetype": "text/x-python",
   "name": "python",
   "nbconvert_exporter": "python",
   "pygments_lexer": "ipython3",
   "version": "3.7.4"
  }
 },
 "nbformat": 4,
 "nbformat_minor": 2
}
