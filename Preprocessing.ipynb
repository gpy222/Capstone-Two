{
 "cells": [
  {
   "cell_type": "markdown",
   "metadata": {},
   "source": [
    "# Preprocessing"
   ]
  },
  {
   "cell_type": "markdown",
   "metadata": {},
   "source": [
    "Due to the feature engineering and data wrangling done previously, this notebook will be relatively brief."
   ]
  },
  {
   "cell_type": "code",
   "execution_count": 2,
   "metadata": {},
   "outputs": [],
   "source": [
    "#import relevant packages\n",
    "import numpy as np\n",
    "import pandas as pd\n",
    "from io import StringIO\n",
    "import requests\n",
    "from sklearn.preprocessing import StandardScaler\n",
    "from sklearn.model_selection import train_test_split"
   ]
  },
  {
   "cell_type": "code",
   "execution_count": 3,
   "metadata": {},
   "outputs": [],
   "source": [
    "#get path extention\n",
    "numeric = '1xvv81F7_NoHaf0qObgWcMWZDLi_w2S0_'\n",
    "target = '1KQNJU82wtbl5pU_2ko5q_-8vVCt0GTqj'\n",
    "\n",
    "#set file path\n",
    "download = 'https://drive.google.com/uc?export=download&id='\n",
    "path_numeric = download + numeric\n",
    "path_target = download + target\n",
    "\n",
    "#get raw data\n",
    "raw_numeric = StringIO(requests.get(path_numeric).text)\n",
    "raw_target = StringIO(requests.get(path_target).text)"
   ]
  },
  {
   "cell_type": "code",
   "execution_count": 4,
   "metadata": {},
   "outputs": [],
   "source": [
    "#load into DataFrames\n",
    "data_numeric = pd.read_csv(raw_numeric)\n",
    "data_target = pd.read_csv(raw_target)"
   ]
  },
  {
   "cell_type": "code",
   "execution_count": 11,
   "metadata": {},
   "outputs": [
    {
     "name": "stdout",
     "output_type": "stream",
     "text": [
      "Number of Observations X Number of Features:\n",
      "(18013, 18)\n",
      "\n",
      "Number of Active Bills:\n",
      "3991\n",
      "\n",
      "Number of Bills which Passed the House:\n",
      "2112\n",
      "\n",
      "Number of Bills which Passed the Senate:\n",
      "636\n",
      "\n",
      "Number of Bills Enacted:\n",
      "559\n"
     ]
    }
   ],
   "source": [
    "#reshape data to reflext different target variables\n",
    "X = data_numeric.drop(columns = 'bill_id')\n",
    "y_active = np.array(pd.get_dummies(data_target.active, drop_first = True)).reshape(18013)\n",
    "y_house = np.array(pd.get_dummies(data_target.house_passage.notnull(), drop_first = True)).reshape(18013)\n",
    "y_senate = np.array(pd.get_dummies(data_target.senate_passage.notnull(), drop_first = True)).reshape(18013)\n",
    "y_enacted = np.array(pd.get_dummies(data_target.enacted.notnull(), drop_first = True)).reshape(18013)\n",
    "\n",
    "print('Number of Observations X Number of Features:')\n",
    "print(X.shape)\n",
    "print()\n",
    "print('Number of Active Bills:')\n",
    "print(sum(y_active))\n",
    "print()\n",
    "print('Number of Bills which Passed the House:')\n",
    "print(sum(y_house))\n",
    "print()\n",
    "print('Number of Bills which Passed the Senate:')\n",
    "print(sum(y_senate))\n",
    "print()\n",
    "print('Number of Bills Enacted:')\n",
    "print(sum(y_enacted))"
   ]
  },
  {
   "cell_type": "code",
   "execution_count": 12,
   "metadata": {},
   "outputs": [],
   "source": [
    "#scale X\n",
    "scaler = StandardScaler()\n",
    "X_scaled = scaler.fit_transform(X)"
   ]
  },
  {
   "cell_type": "code",
   "execution_count": 13,
   "metadata": {},
   "outputs": [],
   "source": [
    "#perform train/test splits\n",
    "#the same random state will be used for all to ensure that the same bills are trained on for each\n",
    "X_train_a, X_test_a, y_train_a, y_test_a = train_test_split(X_scaled, y_active, \n",
    "                                                            stratify = y_active, test_size = .2, random_state = 42)\n",
    "\n",
    "X_train_h, X_test_h, y_train_h, y_test_h = train_test_split(X_scaled, y_house, \n",
    "                                                            stratify = y_house, test_size = .2, random_state = 42)\n",
    "\n",
    "X_train_s, X_test_s, y_train_s, y_test_s = train_test_split(X_scaled, y_senate, \n",
    "                                                            stratify = y_senate, test_size = .2, random_state = 42)\n",
    "\n",
    "X_train_e, X_test_e, y_train_e, y_test_e = train_test_split(X_scaled, y_enacted, \n",
    "                                                            stratify = y_enacted, test_size = .2, random_state = 42)"
   ]
  },
  {
   "cell_type": "code",
   "execution_count": null,
   "metadata": {},
   "outputs": [],
   "source": []
  }
 ],
 "metadata": {
  "kernelspec": {
   "display_name": "Python 3",
   "language": "python",
   "name": "python3"
  },
  "language_info": {
   "codemirror_mode": {
    "name": "ipython",
    "version": 3
   },
   "file_extension": ".py",
   "mimetype": "text/x-python",
   "name": "python",
   "nbconvert_exporter": "python",
   "pygments_lexer": "ipython3",
   "version": "3.7.4"
  }
 },
 "nbformat": 4,
 "nbformat_minor": 2
}
