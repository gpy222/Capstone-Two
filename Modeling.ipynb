{
 "cells": [
  {
   "cell_type": "markdown",
   "metadata": {},
   "source": [
    "# Modeling"
   ]
  },
  {
   "cell_type": "markdown",
   "metadata": {},
   "source": [
    "### 1. Load Data"
   ]
  },
  {
   "cell_type": "code",
   "execution_count": 175,
   "metadata": {},
   "outputs": [],
   "source": [
    "#import relevant packages\n",
    "import numpy as np\n",
    "import pandas as pd\n",
    "from io import StringIO\n",
    "import requests\n",
    "import matplotlib.pyplot as plt\n",
    "import seaborn as sns\n",
    "from sklearn.preprocessing import StandardScaler\n",
    "from sklearn.model_selection import train_test_split"
   ]
  },
  {
   "cell_type": "code",
   "execution_count": 176,
   "metadata": {},
   "outputs": [],
   "source": [
    "#get path extention\n",
    "numeric = '1xvv81F7_NoHaf0qObgWcMWZDLi_w2S0_'\n",
    "text = '1Jy7ngEMFjZxdEQ6ax5HeTODChFTCZBtY'\n",
    "target = '1KQNJU82wtbl5pU_2ko5q_-8vVCt0GTqj'\n",
    "\n",
    "#set file path\n",
    "download = 'https://drive.google.com/uc?export=download&id='\n",
    "path_numeric = download + numeric\n",
    "path_text = download + text\n",
    "path_target = download + target\n",
    "\n",
    "#get raw data\n",
    "raw_numeric = StringIO(requests.get(path_numeric).text)\n",
    "raw_text = StringIO(requests.get(path_text).text)\n",
    "raw_target = StringIO(requests.get(path_target).text)"
   ]
  },
  {
   "cell_type": "code",
   "execution_count": 177,
   "metadata": {},
   "outputs": [],
   "source": [
    "#load into DataFrames\n",
    "data_numeric = pd.read_csv(raw_numeric)\n",
    "data_text = pd.read_csv(raw_text)\n",
    "data_target = pd.read_csv(raw_target)"
   ]
  },
  {
   "cell_type": "code",
   "execution_count": 178,
   "metadata": {},
   "outputs": [
    {
     "name": "stdout",
     "output_type": "stream",
     "text": [
      "(18013,)\n",
      "(18013,)\n"
     ]
    }
   ],
   "source": [
    "#specify text features\n",
    "titles = data_text.title\n",
    "short_titles = data_text.short_title\n",
    "print(titles.shape)\n",
    "print(short_titles.shape)"
   ]
  },
  {
   "cell_type": "code",
   "execution_count": 179,
   "metadata": {},
   "outputs": [],
   "source": [
    "#reshape data to reflect different target variables for each stage of passage\n",
    "X_num = {}\n",
    "X_text = {}\n",
    "y = {}\n",
    "data_target.loc[data_target.active == 0, 'active'] = np.nan\n",
    "stages = ['active', 'house_passage', 'senate_passage', 'enacted']\n",
    "for i in range(4):\n",
    "    if i == 0:\n",
    "        \n",
    "        X_num['stage'+str(1)] = data_numeric.drop(columns = 'bill_id')\n",
    "        X_text['stage'+str(1)] = titles\n",
    "        X_text['short_stage'+str(1)] = short_titles\n",
    "        y['stage'+str(1)] = pd.get_dummies(data_target[stages[0]].notnull(), drop_first = True).values\n",
    "       \n",
    "              \n",
    "    else: \n",
    "        \n",
    "        mask = pd.get_dummies(data_target[stages[i-1]].notnull(), drop_first = True).values.reshape(18013)\n",
    "        X_num['stage'+str(i+1)] = X_num['stage1'][mask == 1]\n",
    "        X_text['stage'+str(i+1)] = X_text['stage1'][mask == 1]\n",
    "        X_text['short_stage'+str(i+1)] = X_text['short_stage1'][mask == 1]\n",
    "        y['stage'+str(i+1)] = pd.get_dummies(data_target[stages[i]].notnull(), drop_first = True).values[mask == 1]\n",
    "        \n"
   ]
  },
  {
   "cell_type": "code",
   "execution_count": 180,
   "metadata": {},
   "outputs": [
    {
     "name": "stdout",
     "output_type": "stream",
     "text": [
      "(18013, 18)\n",
      "(3991, 18)\n",
      "(2112, 18)\n",
      "(636, 18)\n"
     ]
    }
   ],
   "source": [
    "for i in range(4):\n",
    "    print(X_num['stage'+str(i+1)].shape)"
   ]
  },
  {
   "cell_type": "code",
   "execution_count": 181,
   "metadata": {},
   "outputs": [],
   "source": [
    "#create beginning to end data\n",
    "X_0 = X_num['stage1']\n",
    "y_0 = pd.get_dummies(data_target['enacted'].notnull(), drop_first = True).values\n",
    "assert(X_0.shape[0] == y_0.shape[0])"
   ]
  },
  {
   "cell_type": "markdown",
   "metadata": {},
   "source": [
    "### 2. Train-Test Split and Standardization/Vectorization"
   ]
  },
  {
   "cell_type": "code",
   "execution_count": 182,
   "metadata": {},
   "outputs": [],
   "source": [
    "#perform train/test splits and scale\n",
    "#the same random state will be used for all to ensure that the same bills are trained on for each\n",
    "from sklearn.feature_extraction.text import TfidfVectorizer\n",
    "vectorizer = TfidfVectorizer(stop_words= 'english', ngram_range = (1,3), max_df = .9)\n",
    "for i in range(4):\n",
    "    X_num['train'+str(i+1)], X_num['test'+str(i+1)], y['train'+str(i+1)], y['test'+str(i+1)] = train_test_split(X_num['stage'+str(i+1)], y['stage'+str(i+1)], stratify = y['stage'+str(i+1)], test_size = 0.2, random_state = 42)\n",
    "    \n",
    "    X_text['train'+str(i+1)], X_text['test'+str(i+1)], _, _ = train_test_split(X_text['stage'+str(i+1)], y['stage'+str(i+1)], stratify = y['stage'+str(i+1)], test_size = 0.2, random_state = 42)\n",
    "    \n",
    "    X_text['short_train'+str(i+1)], X_text['short_test'+str(i+1)], _, _ = train_test_split(X_text['short_stage'+str(i+1)], y['stage'+str(i+1)], stratify = y['stage'+str(i+1)], test_size = 0.2, random_state = 42)\n",
    "    \n",
    "    scaler = StandardScaler()\n",
    "    X_num['train'+str(i+1)] = scaler.fit_transform(X_num['train'+str(i+1)])\n",
    "    X_num['test'+str(i+1)] = scaler.transform(X_num['test'+str(i+1)])\n",
    "    \n",
    "    vectorizer = TfidfVectorizer(stop_words= 'english', ngram_range = (1,2), max_df = .9, min_df = 2)\n",
    "    X_text['train'+str(i+1)] = vectorizer.fit_transform(X_text['train'+str(i+1)])\n",
    "    X_text['test'+str(i+1)] = vectorizer.transform(X_text['test'+str(i+1)])\n",
    "    X_text['short_train'+str(i+1)] = vectorizer.fit_transform(X_text['short_train'+str(i+1)])\n",
    "    X_text['short_test'+str(i+1)] = vectorizer.transform(X_text['short_test'+str(i+1)])\n",
    "    "
   ]
  },
  {
   "cell_type": "code",
   "execution_count": 183,
   "metadata": {},
   "outputs": [],
   "source": [
    "#split the end to end data\n",
    "X_train_0, X_test_0, y_train_0, y_test_0 = train_test_split(X_0, y_0, stratify = y_0, test_size = 0.2, random_state = 42)"
   ]
  },
  {
   "cell_type": "code",
   "execution_count": 184,
   "metadata": {},
   "outputs": [
    {
     "name": "stdout",
     "output_type": "stream",
     "text": [
      "(14410, 39762)\n",
      "(14410, 17102)\n",
      "(3192, 9168)\n",
      "(3192, 3965)\n",
      "(1689, 5462)\n",
      "(1689, 2632)\n",
      "(508, 1425)\n",
      "(508, 831)\n"
     ]
    }
   ],
   "source": [
    "#examine the number of features in the vectorized text data\n",
    "for i in range(4):\n",
    "    print(X_text['train'+str(i+1)].shape)\n",
    "    print(X_text['short_train'+str(i+1)].shape)"
   ]
  },
  {
   "cell_type": "markdown",
   "metadata": {},
   "source": [
    "### 3. Get Baseline Performance"
   ]
  },
  {
   "cell_type": "markdown",
   "metadata": {},
   "source": [
    "Baseline models will be fitted to each dataset and evaluated using five-fold cross validation. Multiple evaluation metrics will be used with this data due to variable class imbalance: at different stages either the positive or the negative outcome may be highly favored, but never is it an even distribution. The evaluation metrics to be used are the F1 score and balanced accuracy. The following models will be fit to each dataset:\n",
    "\n",
    "1. Logistic Regression\n",
    "2. Gradient Boosted Classifier\n",
    "3. Neural Net"
   ]
  },
  {
   "cell_type": "code",
   "execution_count": 185,
   "metadata": {},
   "outputs": [],
   "source": [
    "#import relevant models, specify evaluation metrics\n",
    "from sklearn.model_selection import cross_validate\n",
    "from sklearn.linear_model import LogisticRegression\n",
    "from sklearn.ensemble import GradientBoostingClassifier\n",
    "from sklearn.neural_network import MLPClassifier\n",
    "metrics = ('f1', 'balanced_accuracy')"
   ]
  },
  {
   "cell_type": "code",
   "execution_count": 186,
   "metadata": {},
   "outputs": [],
   "source": [
    "#fit the logistic regression model to each dataset using five fold cross validation and save the scores for each stage\n",
    "log_reg = LogisticRegression(class_weight = 'balanced', max_iter = 1000)\n",
    "\n",
    "num_f1 = []\n",
    "num_train_f1 = []\n",
    "num_accuracy = []\n",
    "num_train_accuracy = []\n",
    "\n",
    "text_f1 = []\n",
    "text_train_f1 = []\n",
    "text_accuracy = []\n",
    "text_train_accuracy = []\n",
    "\n",
    "short_text_f1 = []\n",
    "short_text_train_f1 = []\n",
    "short_text_accuracy = []\n",
    "short_text_train_accuracy = []\n",
    "\n",
    "for i in range(4):\n",
    "    X1 = X_num['train'+str(i+1)]\n",
    "    X2 = X_text['train'+str(i+1)]\n",
    "    X3 = X_text['short_train'+str(i+1)]\n",
    "    Y = np.ravel(y['train'+str(i+1)])\n",
    "    \n",
    "    cv1 = cross_validate(log_reg, X1, Y, scoring = metrics, cv = 5, return_train_score = True)\n",
    "    cv2 = cross_validate(log_reg, X2, Y, scoring = metrics, cv = 5, return_train_score = True)\n",
    "    cv3 = cross_validate(log_reg, X3, Y, scoring = metrics, cv = 5, return_train_score = True)\n",
    "    \n",
    "    num_f1.append(cv1['test_f1'])\n",
    "    num_train_f1.append(cv1['train_f1'])\n",
    "    num_accuracy.append(cv1['test_balanced_accuracy'])\n",
    "    num_train_accuracy.append(cv1['train_balanced_accuracy'])\n",
    "    \n",
    "    text_f1.append(cv2['test_f1'])\n",
    "    text_train_f1.append(cv2['train_f1'])\n",
    "    text_accuracy.append(cv2['test_balanced_accuracy'])\n",
    "    text_train_accuracy.append(cv2['train_balanced_accuracy'])\n",
    "    \n",
    "    short_text_f1.append(cv3['test_f1'])\n",
    "    short_text_train_f1.append(cv3['train_f1'])\n",
    "    short_text_accuracy.append(cv3['test_balanced_accuracy'])\n",
    "    short_text_train_accuracy.append(cv3['train_balanced_accuracy'])\n",
    "    "
   ]
  },
  {
   "cell_type": "code",
   "execution_count": 187,
   "metadata": {},
   "outputs": [
    {
     "data": {
      "image/png": "[encoded data removed]",
      "text/plain": [
       "<Figure size 432x288 with 4 Axes>"
      ]
     },
     "metadata": {},
     "output_type": "display_data"
    }
   ],
   "source": [
    "#plot the average performance of the model for each dataset and metric \n",
    "#plot the difference between the train and validation score\n",
    "sns.set()\n",
    "labels = ['Numerical', 'Title', 'Short Title']\n",
    "f1_means = [np.mean(num_f1), np.mean(text_f1), np.mean(short_text_f1)]\n",
    "f1_variance = [np.mean(num_train_f1) - np.mean(num_f1), np.mean(text_train_f1) - np.mean(text_f1),\n",
    "               np.mean(short_text_train_f1) - np.mean(short_text_f1)]\n",
    "accuracy_means = [np.mean(num_accuracy), np.mean(text_accuracy), np.mean(short_text_accuracy)]\n",
    "accuracy_variance = [np.mean(num_train_accuracy) - np.mean(num_accuracy), np.mean(text_train_accuracy) - np.mean(text_accuracy), \n",
    "                     np.mean(short_text_train_accuracy) - np.mean(short_text_accuracy)]\n",
    "\n",
    "ax1 = plt.subplot(221)\n",
    "ax1.bar(labels, f1_means)\n",
    "plt.xlabel('Data Type')\n",
    "plt.ylabel('F1 Score')\n",
    "\n",
    "ax2 = plt.subplot(222)\n",
    "ax2.bar(labels, f1_variance)\n",
    "plt.xlabel('Data Type')\n",
    "plt.ylabel('F1 Variance')\n",
    "\n",
    "ax3 = plt.subplot(223)\n",
    "ax3.bar(labels, accuracy_means)\n",
    "plt.xlabel('Data Type')\n",
    "plt.ylabel('Accuracy Score')\n",
    "\n",
    "ax4 = plt.subplot(224)\n",
    "ax4.bar(labels, accuracy_variance)\n",
    "plt.xlabel('Data Type')\n",
    "plt.ylabel('Accuracy Variance')\n",
    "\n",
    "plt.show()"
   ]
  },
  {
   "cell_type": "code",
   "execution_count": 192,
   "metadata": {},
   "outputs": [
    {
     "name": "stdout",
     "output_type": "stream",
     "text": [
      "Stage 1:\n",
      "\n",
      "Numerical Train F1:  0.569671582569389\n",
      "Numerical Test F1:  0.5676443995831516\n",
      "Title Train F1:  0.7385192409003899\n",
      "Title Test F1:  0.4591768849272369\n",
      "Short Title Train F1:  0.7147716143179206\n",
      "Short title Test F1:  0.4640312161328074\n",
      "\n",
      "\n",
      "Stage 2:\n",
      "\n",
      "Numerical Train F1:  0.7278518168036479\n",
      "Numerical Test F1:  0.7193651944057663\n",
      "Title Train F1:  0.886230545145789\n",
      "Title Test F1:  0.6832221234642977\n",
      "Short Title Train F1:  0.8403034866209765\n",
      "Short title Test F1:  0.6756032188716655\n",
      "\n",
      "\n",
      "Stage 3:\n",
      "\n",
      "Numerical Train F1:  0.512643872097908\n",
      "Numerical Test F1:  0.49489147935695144\n",
      "Title Train F1:  0.8515359036944771\n",
      "Title Test F1:  0.507590074923854\n",
      "Short Title Train F1:  0.81059704532473\n",
      "Short title Test F1:  0.5400397450385418\n",
      "\n",
      "\n",
      "Stage 4:\n",
      "\n",
      "Numerical Train F1:  0.8119922270501124\n",
      "Numerical Test F1:  0.7961848306219167\n",
      "Title Train F1:  0.9363847726106584\n",
      "Title Test F1:  0.8391732657586317\n",
      "Short Title Train F1:  0.9090857264345283\n",
      "Short title Test F1:  0.8201725841170413\n",
      "\n",
      "\n"
     ]
    }
   ],
   "source": [
    "#print the average performance for each stage\n",
    "for i in range(4):\n",
    "    print('Stage '+ str(i+1)+':')\n",
    "    print()\n",
    "    print('Numerical Train F1: ', np.mean(num_train_f1[i]))\n",
    "    print('Numerical Test F1: ', np.mean(num_f1[i]))\n",
    "    print('Title Train F1: ', np.mean(text_train_f1[i]))\n",
    "    print('Title Test F1: ', np.mean(text_f1[i]))\n",
    "    print('Short Title Train F1: ', np.mean(short_text_train_f1[i]))\n",
    "    print('Short title Test F1: ', np.mean(short_text_f1[i]))\n",
    "    print()\n",
    "    print()"
   ]
  },
  {
   "cell_type": "code",
   "execution_count": 193,
   "metadata": {},
   "outputs": [
    {
     "name": "stdout",
     "output_type": "stream",
     "text": [
      "Train Score Interval (95% Certainty):  (0.1300865926691025, 0.14717038549616523)\n",
      "Validation Score Interval (95% Certainty):  (0.10248122286963655, 0.16311560071775422)\n"
     ]
    }
   ],
   "source": [
    "#train and evaluate the end to end model using logistic regression\n",
    "X = X_train_0\n",
    "Y = np.ravel(y_train_0)\n",
    "logreg = LogisticRegression(class_weight = 'balanced', max_iter = 1000)\n",
    "cv = cross_validate(logreg, X, Y, cv = 5, scoring = 'f1', return_train_score = True)\n",
    "train_score = np.mean(cv['train_score'])\n",
    "train_std = np.std(cv['train_score'])\n",
    "test_score = np.mean(cv['test_score'])\n",
    "test_std = np.std(cv['test_score'])\n",
    "print('Train Score Interval (95% Certainty): ', (train_score - 2*train_std, train_score + 2*train_std))\n",
    "print('Validation Score Interval (95% Certainty): ', (test_score - 2*test_std, test_score + 2*test_std))"
   ]
  },
  {
   "cell_type": "markdown",
   "metadata": {},
   "source": [
    "As we can see, the model performs similarly well on each data set overall, however, there is much less overfitting on the numerical data due to the lower dimensionality. During hyperparameter tuning we will examine the effect of PCA on the text based model to see if there is any increase in performance or decrease in variance."
   ]
  },
  {
   "cell_type": "code",
   "execution_count": 194,
   "metadata": {},
   "outputs": [],
   "source": [
    "#fit the gradient boosting model to each dataset using five fold cross validation and save the scores for each stage\n",
    "n = 500\n",
    "gbm = GradientBoostingClassifier(learning_rate = 1/np.sqrt(n), n_estimators = n, random_state = 42)\n",
    "\n",
    "num_f1 = []\n",
    "num_train_f1 = []\n",
    "num_accuracy = []\n",
    "num_train_accuracy = []\n",
    "\n",
    "text_f1 = []\n",
    "text_train_f1 = []\n",
    "text_accuracy = []\n",
    "text_train_accuracy = []\n",
    "\n",
    "short_text_f1 = []\n",
    "short_text_train_f1 = []\n",
    "short_text_accuracy = []\n",
    "short_text_train_accuracy = []\n",
    "\n",
    "for i in range(4):\n",
    "    X1 = X_num['train'+str(i+1)]\n",
    "    X2 = X_text['train'+str(i+1)]\n",
    "    X3 = X_text['short_train'+str(i+1)]\n",
    "    Y = np.ravel(y['train'+str(i+1)])\n",
    "    \n",
    "    cv1 = cross_validate(gbm, X1, Y, scoring = metrics, cv = 5, return_train_score = True)\n",
    "    cv2 = cross_validate(gbm, X2, Y, scoring = metrics, cv = 5, return_train_score = True)\n",
    "    cv3 = cross_validate(gbm, X3, Y, scoring = metrics, cv = 5, return_train_score = True)\n",
    "    \n",
    "    num_f1.append(cv1['test_f1'])\n",
    "    num_train_f1.append(cv1['train_f1'])\n",
    "    num_accuracy.append(cv1['test_balanced_accuracy'])\n",
    "    num_train_accuracy.append(cv1['train_balanced_accuracy'])\n",
    "    \n",
    "    text_f1.append(cv2['test_f1'])\n",
    "    text_train_f1.append(cv2['train_f1'])\n",
    "    text_accuracy.append(cv2['test_balanced_accuracy'])\n",
    "    text_train_accuracy.append(cv2['train_balanced_accuracy'])\n",
    "    \n",
    "    short_text_f1.append(cv3['test_f1'])\n",
    "    short_text_train_f1.append(cv3['train_f1'])\n",
    "    short_text_accuracy.append(cv3['test_balanced_accuracy'])\n",
    "    short_text_train_accuracy.append(cv3['train_balanced_accuracy'])\n",
    "    "
   ]
  },
  {
   "cell_type": "code",
   "execution_count": 195,
   "metadata": {},
   "outputs": [
    {
     "data": {
      "image/png": "[encoded data removed]",
      "text/plain": [
       "<Figure size 432x288 with 4 Axes>"
      ]
     },
     "metadata": {},
     "output_type": "display_data"
    }
   ],
   "source": [
    "#plot the average performance of the model for each dataset and metric \n",
    "#plot the difference between the train and validation score\n",
    "labels = ['Numerical', 'Title', 'Short Title']\n",
    "f1_means = [np.mean(num_f1), np.mean(text_f1), np.mean(short_text_f1)]\n",
    "f1_variance = [np.mean(num_train_f1) - np.mean(num_f1), np.mean(text_train_f1) - np.mean(text_f1),\n",
    "               np.mean(short_text_train_f1) - np.mean(short_text_f1)]\n",
    "accuracy_means = [np.mean(num_accuracy), np.mean(text_accuracy), np.mean(short_text_accuracy)]\n",
    "accuracy_variance = [np.mean(num_train_accuracy) - np.mean(num_accuracy), np.mean(text_train_accuracy) - np.mean(text_accuracy), \n",
    "                     np.mean(short_text_train_accuracy) - np.mean(short_text_accuracy)]\n",
    "\n",
    "ax1 = plt.subplot(221)\n",
    "ax1.bar(labels, f1_means)\n",
    "plt.xlabel('Data Type')\n",
    "plt.ylabel('F1 Validation Score')\n",
    "\n",
    "ax2 = plt.subplot(222)\n",
    "ax2.bar(labels, f1_variance)\n",
    "plt.xlabel('Data Type')\n",
    "plt.ylabel('F1 Variance')\n",
    "\n",
    "ax3 = plt.subplot(223)\n",
    "ax3.bar(labels, accuracy_means)\n",
    "plt.xlabel('Data Type')\n",
    "plt.ylabel('Balanced Accuracy Validation Score')\n",
    "\n",
    "ax4 = plt.subplot(224)\n",
    "ax4.bar(labels, accuracy_variance)\n",
    "plt.xlabel('Data Type')\n",
    "plt.ylabel('Balanced Accuracy Variance')\n",
    "\n",
    "plt.show()"
   ]
  },
  {
   "cell_type": "code",
   "execution_count": 196,
   "metadata": {},
   "outputs": [
    {
     "name": "stdout",
     "output_type": "stream",
     "text": [
      "Stage 1:\n",
      "\n",
      "Numerical Train F1:  0.6838899159017343\n",
      "Numerical Test F1:  0.6317195925085418\n",
      "Title Train F1:  0.27482326223544856\n",
      "Title Test F1:  0.20063648151168803\n",
      "Short Title Train F1:  0.2533440627253549\n",
      "Short title Test F1:  0.1821754393828797\n",
      "\n",
      "\n",
      "Stage 2:\n",
      "\n",
      "Numerical Train F1:  0.8923917832023948\n",
      "Numerical Test F1:  0.8048147411750722\n",
      "Title Train F1:  0.8997104690317135\n",
      "Title Test F1:  0.6932574662033494\n",
      "Short Title Train F1:  0.8241693055276753\n",
      "Short title Test F1:  0.6871217280425894\n",
      "\n",
      "\n",
      "Stage 3:\n",
      "\n",
      "Numerical Train F1:  0.8256567176372365\n",
      "Numerical Test F1:  0.43434499297471074\n",
      "Title Train F1:  0.7842098829640884\n",
      "Title Test F1:  0.4666231602792113\n",
      "Short Title Train F1:  0.7307310098561014\n",
      "Short title Test F1:  0.49889563530215986\n",
      "\n",
      "\n",
      "Stage 4:\n",
      "\n",
      "Numerical Train F1:  0.9991316931982634\n",
      "Numerical Test F1:  0.9173170247092486\n",
      "Title Train F1:  0.9991308530368684\n",
      "Title Test F1:  0.9198897346604904\n",
      "Short Title Train F1:  0.9930877200257087\n",
      "Short title Test F1:  0.8779444896040094\n",
      "\n",
      "\n"
     ]
    }
   ],
   "source": [
    "#print the average performance for each stage\n",
    "for i in range(4):\n",
    "    print('Stage '+ str(i+1)+':')\n",
    "    print()\n",
    "    print('Numerical Train F1: ', np.mean(num_train_f1[i]))\n",
    "    print('Numerical Test F1: ', np.mean(num_f1[i]))\n",
    "    print('Title Train F1: ', np.mean(text_train_f1[i]))\n",
    "    print('Title Test F1: ', np.mean(text_f1[i]))\n",
    "    print('Short Title Train F1: ', np.mean(short_text_train_f1[i]))\n",
    "    print('Short title Test F1: ', np.mean(short_text_f1[i]))\n",
    "    print()\n",
    "    print()"
   ]
  },
  {
   "cell_type": "code",
   "execution_count": 197,
   "metadata": {},
   "outputs": [
    {
     "name": "stdout",
     "output_type": "stream",
     "text": [
      "Train Score Interval (95% Certainty):  (0.2598113472229353, 0.3538502224138773)\n",
      "Validation Score Interval (95% Certainty):  (-0.04641300805359673, 0.1565165436891529)\n"
     ]
    }
   ],
   "source": [
    "#train and evaluate the end to end model using gradient boosting\n",
    "X = X_train_0\n",
    "Y = np.ravel(y_train_0)\n",
    "n = 500\n",
    "gbm = GradientBoostingClassifier(learning_rate = 1/np.sqrt(n), n_estimators = n, random_state = 42)\n",
    "cv = cross_validate(gbm, X, Y, cv = 5, scoring = 'f1', return_train_score = True)\n",
    "train_score = np.mean(cv['train_score'])\n",
    "train_std = np.std(cv['train_score'])\n",
    "test_score = np.mean(cv['test_score'])\n",
    "test_std = np.std(cv['test_score'])\n",
    "print('Train Score Interval (95% Certainty): ', (train_score - 2*train_std, train_score + 2*train_std))\n",
    "print('Validation Score Interval (95% Certainty): ', (test_score - 2*test_std, test_score + 2*test_std))"
   ]
  },
  {
   "cell_type": "markdown",
   "metadata": {},
   "source": [
    "The Gradient Boosting Machine appears to have achieved better performance on the numerical data at the cost of increased overfitting. The machine has not been able to improve much upon the logistic regression performance on the text data, however, it has accomplished a reduced degree of overfitting. The same seems to hold true for the end-to-end model where validation performance is similar to the logistic regression model, but with a higher amount of spread and overfitting. During hyperparameter tuning, we will attempt to optimize the number of estimators and learning rate."
   ]
  },
  {
   "cell_type": "code",
   "execution_count": 198,
   "metadata": {},
   "outputs": [
    {
     "name": "stderr",
     "output_type": "stream",
     "text": [
      "/Applications/anaconda3/lib/python3.7/site-packages/sklearn/neural_network/_multilayer_perceptron.py:585: ConvergenceWarning: Stochastic Optimizer: Maximum iterations (500) reached and the optimization hasn't converged yet.\n",
      "  % self.max_iter, ConvergenceWarning)\n",
      "/Applications/anaconda3/lib/python3.7/site-packages/sklearn/neural_network/_multilayer_perceptron.py:585: ConvergenceWarning: Stochastic Optimizer: Maximum iterations (500) reached and the optimization hasn't converged yet.\n",
      "  % self.max_iter, ConvergenceWarning)\n",
      "/Applications/anaconda3/lib/python3.7/site-packages/sklearn/neural_network/_multilayer_perceptron.py:585: ConvergenceWarning: Stochastic Optimizer: Maximum iterations (500) reached and the optimization hasn't converged yet.\n",
      "  % self.max_iter, ConvergenceWarning)\n",
      "/Applications/anaconda3/lib/python3.7/site-packages/sklearn/neural_network/_multilayer_perceptron.py:585: ConvergenceWarning: Stochastic Optimizer: Maximum iterations (500) reached and the optimization hasn't converged yet.\n",
      "  % self.max_iter, ConvergenceWarning)\n",
      "/Applications/anaconda3/lib/python3.7/site-packages/sklearn/neural_network/_multilayer_perceptron.py:585: ConvergenceWarning: Stochastic Optimizer: Maximum iterations (500) reached and the optimization hasn't converged yet.\n",
      "  % self.max_iter, ConvergenceWarning)\n",
      "/Applications/anaconda3/lib/python3.7/site-packages/sklearn/neural_network/_multilayer_perceptron.py:585: ConvergenceWarning: Stochastic Optimizer: Maximum iterations (500) reached and the optimization hasn't converged yet.\n",
      "  % self.max_iter, ConvergenceWarning)\n",
      "/Applications/anaconda3/lib/python3.7/site-packages/sklearn/neural_network/_multilayer_perceptron.py:585: ConvergenceWarning: Stochastic Optimizer: Maximum iterations (500) reached and the optimization hasn't converged yet.\n",
      "  % self.max_iter, ConvergenceWarning)\n",
      "/Applications/anaconda3/lib/python3.7/site-packages/sklearn/neural_network/_multilayer_perceptron.py:585: ConvergenceWarning: Stochastic Optimizer: Maximum iterations (500) reached and the optimization hasn't converged yet.\n",
      "  % self.max_iter, ConvergenceWarning)\n",
      "/Applications/anaconda3/lib/python3.7/site-packages/sklearn/neural_network/_multilayer_perceptron.py:585: ConvergenceWarning: Stochastic Optimizer: Maximum iterations (500) reached and the optimization hasn't converged yet.\n",
      "  % self.max_iter, ConvergenceWarning)\n",
      "/Applications/anaconda3/lib/python3.7/site-packages/sklearn/neural_network/_multilayer_perceptron.py:585: ConvergenceWarning: Stochastic Optimizer: Maximum iterations (500) reached and the optimization hasn't converged yet.\n",
      "  % self.max_iter, ConvergenceWarning)\n",
      "/Applications/anaconda3/lib/python3.7/site-packages/sklearn/neural_network/_multilayer_perceptron.py:585: ConvergenceWarning: Stochastic Optimizer: Maximum iterations (500) reached and the optimization hasn't converged yet.\n",
      "  % self.max_iter, ConvergenceWarning)\n",
      "/Applications/anaconda3/lib/python3.7/site-packages/sklearn/neural_network/_multilayer_perceptron.py:585: ConvergenceWarning: Stochastic Optimizer: Maximum iterations (500) reached and the optimization hasn't converged yet.\n",
      "  % self.max_iter, ConvergenceWarning)\n",
      "/Applications/anaconda3/lib/python3.7/site-packages/sklearn/neural_network/_multilayer_perceptron.py:585: ConvergenceWarning: Stochastic Optimizer: Maximum iterations (500) reached and the optimization hasn't converged yet.\n",
      "  % self.max_iter, ConvergenceWarning)\n",
      "/Applications/anaconda3/lib/python3.7/site-packages/sklearn/neural_network/_multilayer_perceptron.py:585: ConvergenceWarning: Stochastic Optimizer: Maximum iterations (500) reached and the optimization hasn't converged yet.\n",
      "  % self.max_iter, ConvergenceWarning)\n",
      "/Applications/anaconda3/lib/python3.7/site-packages/sklearn/neural_network/_multilayer_perceptron.py:585: ConvergenceWarning: Stochastic Optimizer: Maximum iterations (500) reached and the optimization hasn't converged yet.\n",
      "  % self.max_iter, ConvergenceWarning)\n",
      "/Applications/anaconda3/lib/python3.7/site-packages/sklearn/neural_network/_multilayer_perceptron.py:585: ConvergenceWarning: Stochastic Optimizer: Maximum iterations (500) reached and the optimization hasn't converged yet.\n",
      "  % self.max_iter, ConvergenceWarning)\n",
      "/Applications/anaconda3/lib/python3.7/site-packages/sklearn/neural_network/_multilayer_perceptron.py:585: ConvergenceWarning: Stochastic Optimizer: Maximum iterations (500) reached and the optimization hasn't converged yet.\n",
      "  % self.max_iter, ConvergenceWarning)\n"
     ]
    }
   ],
   "source": [
    "#fit the neural net model to each dataset using five fold cross validation and save the scores for each stage\n",
    "neural_net = MLPClassifier(hidden_layer_sizes = (18,6), max_iter = 500)\n",
    "\n",
    "num_f1 = []\n",
    "num_train_f1 = []\n",
    "num_accuracy = []\n",
    "num_train_accuracy = []\n",
    "\n",
    "text_f1 = []\n",
    "text_train_f1 = []\n",
    "text_accuracy = []\n",
    "text_train_accuracy = []\n",
    "\n",
    "short_text_f1 = []\n",
    "short_text_train_f1 = []\n",
    "short_text_accuracy = []\n",
    "short_text_train_accuracy = []\n",
    "\n",
    "for i in range(4):\n",
    "    X1 = X_num['train'+str(i+1)]\n",
    "    X2 = X_text['train'+str(i+1)]\n",
    "    X3 = X_text['short_train'+str(i+1)]\n",
    "    Y = np.ravel(y['train'+str(i+1)])\n",
    "    \n",
    "    cv1 = cross_validate(neural_net, X1, Y, scoring = metrics, cv = 5, return_train_score = True)\n",
    "    cv2 = cross_validate(neural_net, X2, Y, scoring = metrics, cv = 5, return_train_score = True)\n",
    "    cv3 = cross_validate(neural_net, X3, Y, scoring = metrics, cv = 5, return_train_score = True)\n",
    "    \n",
    "    num_f1.append(cv1['test_f1'])\n",
    "    num_train_f1.append(cv1['train_f1'])\n",
    "    num_accuracy.append(cv1['test_balanced_accuracy'])\n",
    "    num_train_accuracy.append(cv1['train_balanced_accuracy'])\n",
    "    \n",
    "    text_f1.append(cv2['test_f1'])\n",
    "    text_train_f1.append(cv2['train_f1'])\n",
    "    text_accuracy.append(cv2['test_balanced_accuracy'])\n",
    "    text_train_accuracy.append(cv2['train_balanced_accuracy'])\n",
    "    \n",
    "    short_text_f1.append(cv3['test_f1'])\n",
    "    short_text_train_f1.append(cv3['train_f1'])\n",
    "    short_text_accuracy.append(cv3['test_balanced_accuracy'])\n",
    "    short_text_train_accuracy.append(cv3['train_balanced_accuracy'])\n",
    "    "
   ]
  },
  {
   "cell_type": "code",
   "execution_count": 199,
   "metadata": {},
   "outputs": [
    {
     "data": {
      "image/png": "[encoded data removed]",
      "text/plain": [
       "<Figure size 432x288 with 4 Axes>"
      ]
     },
     "metadata": {},
     "output_type": "display_data"
    }
   ],
   "source": [
    "#plot the average performance of the model for each dataset and metric \n",
    "#plot the difference between the train and validation score\n",
    "labels = ['Numerical', 'Title', 'Short Title']\n",
    "f1_means = [np.mean(num_f1), np.mean(text_f1), np.mean(short_text_f1)]\n",
    "f1_variance = [np.mean(num_train_f1) - np.mean(num_f1), np.mean(text_train_f1) - np.mean(text_f1),\n",
    "               np.mean(short_text_train_f1) - np.mean(short_text_f1)]\n",
    "accuracy_means = [np.mean(num_accuracy), np.mean(text_accuracy), np.mean(short_text_accuracy)]\n",
    "accuracy_variance = [np.mean(num_train_accuracy) - np.mean(num_accuracy), np.mean(text_train_accuracy) - np.mean(text_accuracy), \n",
    "                     np.mean(short_text_train_accuracy) - np.mean(short_text_accuracy)]\n",
    "\n",
    "ax1 = plt.subplot(221)\n",
    "ax1.bar(labels, f1_means)\n",
    "plt.xlabel('Data Type')\n",
    "plt.ylabel('F1 Validation Score')\n",
    "\n",
    "ax2 = plt.subplot(222)\n",
    "ax2.bar(labels, f1_variance)\n",
    "plt.xlabel('Data Type')\n",
    "plt.ylabel('F1 Variance')\n",
    "\n",
    "ax3 = plt.subplot(223)\n",
    "ax3.bar(labels, accuracy_means)\n",
    "plt.xlabel('Data Type')\n",
    "plt.ylabel('Balanced Accuracy Validation Score')\n",
    "\n",
    "ax4 = plt.subplot(224)\n",
    "ax4.bar(labels, accuracy_variance)\n",
    "plt.xlabel('Data Type')\n",
    "plt.ylabel('Balanced Accuracy Variance')\n",
    "\n",
    "plt.show()"
   ]
  },
  {
   "cell_type": "code",
   "execution_count": 200,
   "metadata": {},
   "outputs": [
    {
     "name": "stdout",
     "output_type": "stream",
     "text": [
      "Stage 1:\n",
      "\n",
      "Numerical Train F1:  0.6700128016651495\n",
      "Numerical Test F1:  0.6285522451001999\n",
      "Title Train F1:  0.9145043083231243\n",
      "Title Test F1:  0.3798091074421723\n",
      "Short Title Train F1:  0.9388025227038146\n",
      "Short title Test F1:  0.3798029506655186\n",
      "\n",
      "\n",
      "Stage 2:\n",
      "\n",
      "Numerical Train F1:  0.849731520334306\n",
      "Numerical Test F1:  0.7740686189963921\n",
      "Title Train F1:  0.9833072565124172\n",
      "Title Test F1:  0.6803113369323145\n",
      "Short Title Train F1:  0.9785431364055694\n",
      "Short title Test F1:  0.6472303856607293\n",
      "\n",
      "\n",
      "Stage 3:\n",
      "\n",
      "Numerical Train F1:  0.6968854649998346\n",
      "Numerical Test F1:  0.4124512233698717\n",
      "Title Train F1:  0.9639658135578939\n",
      "Title Test F1:  0.4988376535735582\n",
      "Short Title Train F1:  0.9588646317303782\n",
      "Short title Test F1:  0.5271589123755543\n",
      "\n",
      "\n",
      "Stage 4:\n",
      "\n",
      "Numerical Train F1:  0.9576410976092624\n",
      "Numerical Test F1:  0.9081604349094364\n",
      "Title Train F1:  0.9991300128754734\n",
      "Title Test F1:  0.8890040731814552\n",
      "Short Title Train F1:  0.993357998716578\n",
      "Short title Test F1:  0.8573980130852039\n",
      "\n",
      "\n"
     ]
    }
   ],
   "source": [
    "#print the average performance for each stage\n",
    "for i in range(4):\n",
    "    print('Stage '+ str(i+1)+':')\n",
    "    print()\n",
    "    print('Numerical Train F1: ', np.mean(num_train_f1[i]))\n",
    "    print('Numerical Test F1: ', np.mean(num_f1[i]))\n",
    "    print('Title Train F1: ', np.mean(text_train_f1[i]))\n",
    "    print('Title Test F1: ', np.mean(text_f1[i]))\n",
    "    print('Short Title Train F1: ', np.mean(short_text_train_f1[i]))\n",
    "    print('Short title Test F1: ', np.mean(short_text_f1[i]))\n",
    "    print()\n",
    "    print()"
   ]
  },
  {
   "cell_type": "code",
   "execution_count": 201,
   "metadata": {
    "scrolled": true
   },
   "outputs": [
    {
     "name": "stdout",
     "output_type": "stream",
     "text": [
      "Train Score Interval (95% Certainty):  (-0.010929097333073446, 0.024008310092414154)\n",
      "Validation Score Interval (95% Certainty):  (0.0, 0.0)\n"
     ]
    }
   ],
   "source": [
    "#train and evaluate the end to end model using neural network\n",
    "X = X_train_0\n",
    "Y = np.ravel(y_train_0)\n",
    "neural_net = MLPClassifier(hidden_layer_sizes = (18,6), max_iter = 500)\n",
    "cv = cross_validate(neural_net, X, Y, cv = 5, scoring = 'f1', return_train_score = True)\n",
    "train_score = np.mean(cv['train_score'])\n",
    "train_std = np.std(cv['train_score'])\n",
    "test_score = np.mean(cv['test_score'])\n",
    "test_std = np.std(cv['test_score'])\n",
    "print('Train Score Interval (95% Certainty): ', (train_score - 2*train_std, train_score + 2*train_std))\n",
    "print('Validation Score Interval (95% Certainty): ', (test_score - 2*test_std, test_score + 2*test_std))"
   ]
  },
  {
   "cell_type": "markdown",
   "metadata": {},
   "source": [
    "Although the neural network was not able to reach convergence in 500 iterations for any of the stages, the severe degree of overfitting suggests that a model with this complexity level is not optimal for our data. During hyperparameter tuning, we will attempt to fit a MLP with a single hidden layer to the data to see how this affects the overfitting.\n",
    "\n",
    "For all three of the above models, the F1 score and Balanced Accuracy showed nearly identical trends. Therefore, moving forward, we will limit our evaluation metrics to just the F1 score for the samke of simplicity and ease of comparison."
   ]
  },
  {
   "cell_type": "markdown",
   "metadata": {},
   "source": [
    "#### 4. Hyperparameter Tuning"
   ]
  },
  {
   "cell_type": "code",
   "execution_count": 169,
   "metadata": {},
   "outputs": [],
   "source": [
    "#fit a logistic regression model to the stage 4 short titles dataset using 25-250 dimensions\n",
    "scores = []\n",
    "train_scores = []\n",
    "explained_variance = []\n",
    "log_reg = LogisticRegression(class_weight = 'balanced', max_iter = 1000)\n",
    "for dim in np.arange(25,275,25):\n",
    "    svd = TruncatedSVD(dim)\n",
    "    svd.fit(X_text['short_train4'])\n",
    "    explained_variance.append(sum(svd.explained_variance_ratio_))\n",
    "    X = svd.transform(X_text['short_train4'])\n",
    "    Y = np.ravel(y['train4'])\n",
    "    cv = cross_validate(gbm, X, Y, scoring = 'f1', return_train_score = True)\n",
    "    scores.append(cv['test_score'])\n",
    "    train_scores.append(cv['train_score'])"
   ]
  },
  {
   "cell_type": "code",
   "execution_count": 170,
   "metadata": {},
   "outputs": [
    {
     "data": {
      "text/plain": [
       "<matplotlib.axes._subplots.AxesSubplot at 0x11fd55c90>"
      ]
     },
     "execution_count": 170,
     "metadata": {},
     "output_type": "execute_result"
    },
    {
     "data": {
      "image/png": "[encoded data removed]",
      "text/plain": [
       "<Figure size 432x288 with 1 Axes>"
      ]
     },
     "metadata": {},
     "output_type": "display_data"
    }
   ],
   "source": [
    "#plot model performance on the smallest text dataset\n",
    "sns.barplot(np.arange(25,275,25), np.mean(scores, axis = 1))"
   ]
  },
  {
   "cell_type": "code",
   "execution_count": 171,
   "metadata": {},
   "outputs": [
    {
     "data": {
      "text/plain": [
       "<matplotlib.axes._subplots.AxesSubplot at 0x11f93eb10>"
      ]
     },
     "execution_count": 171,
     "metadata": {},
     "output_type": "execute_result"
    },
    {
     "data": {
      "image/png": "[encoded data removed]",
      "text/plain": [
       "<Figure size 432x288 with 1 Axes>"
      ]
     },
     "metadata": {},
     "output_type": "display_data"
    }
   ],
   "source": [
    "#plot overfitting on the smallest text dataset\n",
    "sns.barplot(np.arange(25,275,25), np.mean(train_scores, axis = 1) - np.mean(scores, axis = 1))"
   ]
  },
  {
   "cell_type": "code",
   "execution_count": 172,
   "metadata": {},
   "outputs": [
    {
     "data": {
      "text/plain": [
       "<matplotlib.axes._subplots.AxesSubplot at 0x12009b610>"
      ]
     },
     "execution_count": 172,
     "metadata": {},
     "output_type": "execute_result"
    },
    {
     "data": {
      "image/png": "[encoded data removed]",
      "text/plain": [
       "<Figure size 432x288 with 1 Axes>"
      ]
     },
     "metadata": {},
     "output_type": "display_data"
    }
   ],
   "source": [
    "#plot total explained variance on the samllest text dataset\n",
    "sns.barplot(np.arange(25,275,25), explained_variance)"
   ]
  },
  {
   "cell_type": "code",
   "execution_count": 165,
   "metadata": {},
   "outputs": [],
   "source": [
    "#fit a logistic regression model to the stage 1 titles dataset using 25-250 dimensions\n",
    "scores = []\n",
    "train_scores = []\n",
    "explained_variance = []\n",
    "log_reg = LogisticRegression(class_weight = 'balanced', max_iter = 1000)\n",
    "for dim in np.arange(25,275,25):\n",
    "    svd = TruncatedSVD(dim)\n",
    "    svd.fit(X_text['train1'])\n",
    "    explained_variance.append(sum(svd.explained_variance_ratio_))\n",
    "    X = svd.transform(X_text['train1'])\n",
    "    Y = np.ravel(y['train1'])\n",
    "    cv = cross_validate(gbm, X, Y, scoring = 'f1', return_train_score = True)\n",
    "    scores.append(cv['test_score'])\n",
    "    train_scores.append(cv['train_score'])"
   ]
  },
  {
   "cell_type": "code",
   "execution_count": 166,
   "metadata": {},
   "outputs": [
    {
     "data": {
      "text/plain": [
       "<matplotlib.axes._subplots.AxesSubplot at 0x11e1696d0>"
      ]
     },
     "execution_count": 166,
     "metadata": {},
     "output_type": "execute_result"
    },
    {
     "data": {
      "image/png": "[encoded data removed]",
      "text/plain": [
       "<Figure size 432x288 with 1 Axes>"
      ]
     },
     "metadata": {},
     "output_type": "display_data"
    }
   ],
   "source": [
    "#plot model performance on the largest text dataset\n",
    "sns.barplot(np.arange(25,275,25), np.mean(scores, axis = 1))"
   ]
  },
  {
   "cell_type": "code",
   "execution_count": 167,
   "metadata": {},
   "outputs": [
    {
     "data": {
      "text/plain": [
       "<matplotlib.axes._subplots.AxesSubplot at 0x11df9cd90>"
      ]
     },
     "execution_count": 167,
     "metadata": {},
     "output_type": "execute_result"
    },
    {
     "data": {
      "image/png": "[encoded data removed]",
      "text/plain": [
       "<Figure size 432x288 with 1 Axes>"
      ]
     },
     "metadata": {},
     "output_type": "display_data"
    }
   ],
   "source": [
    "#plot model overfitting on the largest text dataset\n",
    "sns.barplot(np.arange(25,275,25), np.mean(train_scores, axis = 1) - np.mean(scores, axis = 1))"
   ]
  },
  {
   "cell_type": "code",
   "execution_count": 168,
   "metadata": {},
   "outputs": [
    {
     "data": {
      "text/plain": [
       "<matplotlib.axes._subplots.AxesSubplot at 0x11feb9290>"
      ]
     },
     "execution_count": 168,
     "metadata": {},
     "output_type": "execute_result"
    },
    {
     "data": {
      "image/png": "[encoded data removed]",
      "text/plain": [
       "<Figure size 432x288 with 1 Axes>"
      ]
     },
     "metadata": {},
     "output_type": "display_data"
    }
   ],
   "source": [
    "#plot total explained varaince on the largest text dataset\n",
    "sns.barplot(np.arange(25,275,25), explained_variance)"
   ]
  },
  {
   "cell_type": "markdown",
   "metadata": {},
   "source": [
    "From the two extreme cases above (smallest text dataset and largest) it becomes apparent that the number of features has very little impact on the performance of the model, although it has a significant impact on the level of overfitting. This tells us that most of the predictive power of the text data comes from the first few dimensions encoded in PCA while the remaining hundreds or thousands of dimensions are mostly noise.\n",
    "\n",
    "Because the performance on the most complex text data is much lower using PCA than using the raw vectorized data, we will forgo PCA and simply fit the Logistic Regressor to the unsimplified data at the rist of some overfitting. We will only be using Logistic Regression for the text data because it achieves comparable results to the more complex models in much less time."
   ]
  },
  {
   "cell_type": "code",
   "execution_count": 220,
   "metadata": {},
   "outputs": [],
   "source": [
    "scores = []\n",
    "train_scores = []\n",
    "for n in np.arange(50,625,50):\n",
    "    \n",
    "    X = X_num['train1']\n",
    "    Y = np.ravel(y['train1'])\n",
    "    gbm = GradientBoostingClassifier(learning_rate = 1/np.sqrt(n), n_estimators = n, random_state = 42)\n",
    "    cv = cross_validate(gbm, X, Y, scoring = 'f1', cv = 5, return_train_score = True)\n",
    "    scores.append(np.mean(cv['test_score']))\n",
    "    train_scores.append(np.mean(cv['train_score']))"
   ]
  },
  {
   "cell_type": "code",
   "execution_count": 221,
   "metadata": {},
   "outputs": [
    {
     "data": {
      "text/plain": [
       "<matplotlib.axes._subplots.AxesSubplot at 0x11e9dcbd0>"
      ]
     },
     "execution_count": 221,
     "metadata": {},
     "output_type": "execute_result"
    },
    {
     "data": {
      "image/png": "[encoded data removed]",
      "text/plain": [
       "<Figure size 432x288 with 1 Axes>"
      ]
     },
     "metadata": {},
     "output_type": "display_data"
    }
   ],
   "source": [
    "sns.barplot(np.arange(50,625,50),scores)"
   ]
  },
  {
   "cell_type": "code",
   "execution_count": 222,
   "metadata": {},
   "outputs": [
    {
     "data": {
      "text/plain": [
       "<matplotlib.axes._subplots.AxesSubplot at 0x11f11f810>"
      ]
     },
     "execution_count": 222,
     "metadata": {},
     "output_type": "execute_result"
    },
    {
     "data": {
      "image/png": "[encoded data removed]",
      "text/plain": [
       "<Figure size 432x288 with 1 Axes>"
      ]
     },
     "metadata": {},
     "output_type": "display_data"
    }
   ],
   "source": [
    "sns.barplot(np.arange(50,625,50), np.array(train_scores) - np.array(scores))"
   ]
  },
  {
   "cell_type": "markdown",
   "metadata": {},
   "source": [
    "From the graphs above it is apparent that the number of classifiers has very little impact on the performance of our Gradient Boosting Machine, while significantly raising the level of overfitting. As a result we will use only 100 estimators for our model to ensure convergence without too much overfitting."
   ]
  },
  {
   "cell_type": "code",
   "execution_count": 226,
   "metadata": {},
   "outputs": [],
   "source": [
    "scores = []\n",
    "train_scores = []\n",
    "for n in range(1,28):\n",
    "    X = X_num['train1']\n",
    "    Y = np.ravel(y['train1'])\n",
    "    neural_net = MLPClassifier(hidden_layer_sizes = (n,), max_iter = 500)\n",
    "    cv = cross_validate(neural_net, X, Y, scoring = 'f1', cv = 5, return_train_score = True)\n",
    "    scores.append(np.mean(cv['test_score']))\n",
    "    train_scores.append(np.mean(cv['train_score']))"
   ]
  },
  {
   "cell_type": "code",
   "execution_count": 228,
   "metadata": {},
   "outputs": [
    {
     "data": {
      "text/plain": [
       "<matplotlib.axes._subplots.AxesSubplot at 0x11f84b950>"
      ]
     },
     "execution_count": 228,
     "metadata": {},
     "output_type": "execute_result"
    },
    {
     "data": {
      "image/png": "[encoded data removed]",
      "text/plain": [
       "<Figure size 432x288 with 1 Axes>"
      ]
     },
     "metadata": {},
     "output_type": "display_data"
    }
   ],
   "source": [
    "sns.barplot(np.arange(1,28),scores)"
   ]
  },
  {
   "cell_type": "code",
   "execution_count": 229,
   "metadata": {},
   "outputs": [
    {
     "data": {
      "text/plain": [
       "<matplotlib.axes._subplots.AxesSubplot at 0x11fcab390>"
      ]
     },
     "execution_count": 229,
     "metadata": {},
     "output_type": "execute_result"
    },
    {
     "data": {
      "image/png": "[encoded data removed]",
      "text/plain": [
       "<Figure size 432x288 with 1 Axes>"
      ]
     },
     "metadata": {},
     "output_type": "display_data"
    }
   ],
   "source": [
    "sns.barplot(np.arange(1,28), np.array(train_scores) - np.array(scores))"
   ]
  },
  {
   "cell_type": "markdown",
   "metadata": {},
   "source": [
    "3 neurons in the first layer seems to yield comparable performance to an larger number of neurons while also minimizing overfitting. We will now examine the added benefit of a second layer."
   ]
  },
  {
   "cell_type": "code",
   "execution_count": 251,
   "metadata": {},
   "outputs": [],
   "source": [
    "scores = []\n",
    "train_scores = []\n",
    "for n in range(1,9):\n",
    "    X = X_num['train1']\n",
    "    Y = np.ravel(y['train1'])\n",
    "    neural_net = MLPClassifier(hidden_layer_sizes = (3,n), max_iter = 500)\n",
    "    cv = cross_validate(neural_net, X, Y, scoring = 'f1', cv = 5, return_train_score = True)\n",
    "    scores.append(np.mean(cv['test_score']))\n",
    "    train_scores.append(np.mean(cv['train_score']))"
   ]
  },
  {
   "cell_type": "code",
   "execution_count": 252,
   "metadata": {},
   "outputs": [
    {
     "data": {
      "text/plain": [
       "<matplotlib.axes._subplots.AxesSubplot at 0x1233a1250>"
      ]
     },
     "execution_count": 252,
     "metadata": {},
     "output_type": "execute_result"
    },
    {
     "data": {
      "image/png": "[encoded data removed]",
      "text/plain": [
       "<Figure size 432x288 with 1 Axes>"
      ]
     },
     "metadata": {},
     "output_type": "display_data"
    }
   ],
   "source": [
    "sns.barplot(np.arange(1,9),scores)"
   ]
  },
  {
   "cell_type": "code",
   "execution_count": 253,
   "metadata": {},
   "outputs": [
    {
     "data": {
      "text/plain": [
       "<matplotlib.axes._subplots.AxesSubplot at 0x12370db90>"
      ]
     },
     "execution_count": 253,
     "metadata": {},
     "output_type": "execute_result"
    },
    {
     "data": {
      "image/png": "[encoded data removed]",
      "text/plain": [
       "<Figure size 432x288 with 1 Axes>"
      ]
     },
     "metadata": {},
     "output_type": "display_data"
    }
   ],
   "source": [
    "sns.barplot(np.arange(1,9), np.array(train_scores) - np.array(scores))"
   ]
  },
  {
   "cell_type": "markdown",
   "metadata": {},
   "source": [
    "4 neurons in the second layer appears to achieve optimal performance and even decreases the level of overfitting from the single layer model. We will now examine the benefit of a third layer."
   ]
  },
  {
   "cell_type": "code",
   "execution_count": 254,
   "metadata": {},
   "outputs": [],
   "source": [
    "scores = []\n",
    "train_scores = []\n",
    "for n in range(1,9):\n",
    "    X = X_num['train1']\n",
    "    Y = np.ravel(y['train1'])\n",
    "    neural_net = MLPClassifier(hidden_layer_sizes = (3,4,n), max_iter = 500)\n",
    "    cv = cross_validate(neural_net, X, Y, scoring = 'f1', cv = 5, return_train_score = True)\n",
    "    scores.append(np.mean(cv['test_score']))\n",
    "    train_scores.append(np.mean(cv['train_score']))"
   ]
  },
  {
   "cell_type": "code",
   "execution_count": 255,
   "metadata": {},
   "outputs": [
    {
     "data": {
      "text/plain": [
       "<matplotlib.axes._subplots.AxesSubplot at 0x1236ee0d0>"
      ]
     },
     "execution_count": 255,
     "metadata": {},
     "output_type": "execute_result"
    },
    {
     "data": {
      "image/png": "[encoded data removed]",
      "text/plain": [
       "<Figure size 432x288 with 1 Axes>"
      ]
     },
     "metadata": {},
     "output_type": "display_data"
    }
   ],
   "source": [
    "sns.barplot(np.arange(1,9),scores)"
   ]
  },
  {
   "cell_type": "code",
   "execution_count": 256,
   "metadata": {},
   "outputs": [
    {
     "data": {
      "text/plain": [
       "<matplotlib.axes._subplots.AxesSubplot at 0x123d4d650>"
      ]
     },
     "execution_count": 256,
     "metadata": {},
     "output_type": "execute_result"
    },
    {
     "data": {
      "image/png": "[encoded data removed]",
      "text/plain": [
       "<Figure size 432x288 with 1 Axes>"
      ]
     },
     "metadata": {},
     "output_type": "display_data"
    }
   ],
   "source": [
    "sns.barplot(np.arange(1,9), np.array(train_scores) - np.array(scores))"
   ]
  },
  {
   "cell_type": "markdown",
   "metadata": {},
   "source": [
    "At this point it is clear that at the second layer, we had reached the point of diminishing marginal returns. Now, when considering a third layer, we see that any numer of neurons will raise the level of overfitting and decrease performance. Therefore, for our model we will utilize a Neural Network with 2 hidden layers of size 3 and 4 respectively."
   ]
  },
  {
   "cell_type": "markdown",
   "metadata": {},
   "source": [
    "### 5. Ensemble"
   ]
  },
  {
   "cell_type": "markdown",
   "metadata": {},
   "source": [
    "We will now examine the added benefit of combining our models into an ensemble using both a simple average and a Decision Tree"
   ]
  },
  {
   "cell_type": "code",
   "execution_count": 271,
   "metadata": {},
   "outputs": [],
   "source": [
    "from sklearn.metrics import f1_score\n",
    "from sklearn.tree import DecisionTreeClassifier"
   ]
  },
  {
   "cell_type": "code",
   "execution_count": 283,
   "metadata": {},
   "outputs": [],
   "source": [
    "tree_scores = []\n",
    "train_scores = []\n",
    "test_scores = []\n",
    "train_predictions = {}\n",
    "test_predictions = {}\n",
    "for i in range(4):\n",
    "    tree = DecisionTreeClassifier()\n",
    "    \n",
    "    train_df = pd.DataFrame()\n",
    "    \n",
    "    test_df = pd.DataFrame()\n",
    "    \n",
    "    log_reg_titles = LogisticRegression(class_weight = 'balanced', max_iter = 1000)\n",
    "    log_reg_short_titles = LogisticRegression(class_weight = 'balanced', max_iter = 1000)\n",
    "    log_reg_num = LogisticRegression(class_weight = 'balanced', max_iter = 1000)\n",
    "    gbm = GradientBoostingClassifier(learning_rate = 0.1, n_estimators = 100, random_state = 42)\n",
    "    nn = MLPClassifier(hidden_layer_sizes = (3,4), max_iter = 1000)\n",
    "\n",
    "    log_reg_titles.fit(X_text['train'+str(i+1)], np.ravel(y['train'+str(i+1)]))\n",
    "    train_df['titles'] = log_reg_titles.predict_proba(X_text['train'+str(i+1)])[:,1]\n",
    "    test_df['titles'] = log_reg_titles.predict_proba(X_text['test'+str(i+1)])[:,1]\n",
    "\n",
    "    log_reg_short_titles.fit(X_text['short_train'+str(i+1)], np.ravel(y['train'+str(i+1)]))\n",
    "    train_df['short_titles'] = log_reg_short_titles.predict_proba(X_text['short_train'+str(i+1)])[:,1]\n",
    "    test_df['short_titles'] = log_reg_short_titles.predict_proba(X_text['short_test'+str(i+1)])[:,1]\n",
    "\n",
    "    log_reg_num.fit(X_num['train'+str(i+1)], np.ravel(y['train'+str(i+1)]))\n",
    "    train_df['log_reg'] = log_reg_num.predict_proba(X_num['train'+str(i+1)])[:,1]\n",
    "    test_df['log_reg'] = log_reg_num.predict_proba(X_num['test'+str(i+1)])[:,1]\n",
    "\n",
    "    gbm.fit(X_num['train'+str(i+1)], np.ravel(y['train'+str(i+1)]))\n",
    "    train_df['gbm'] = gbm.predict_proba(X_num['train'+str(i+1)])[:,1]\n",
    "    test_df['gbm'] = gbm.predict_proba(X_num['test'+str(i+1)])[:,1]\n",
    "\n",
    "    nn.fit(X_num['train'+str(i+1)], np.ravel(y['train'+str(i+1)]))\n",
    "    train_df['nn'] = nn.predict_proba(X_num['train'+str(i+1)])[:,1]\n",
    "    test_df['nn'] = nn.predict_proba(X_num['test'+str(i+1)])[:,1]\n",
    "\n",
    "    train_df['average'] = train_df.mean(axis = 1)\n",
    "    test_df['average'] = test_df.mean(axis = 1)\n",
    "\n",
    "    train_df['predictions'] = round(train_df['average'])\n",
    "    test_df['predictions'] = round(test_df['average'])\n",
    "\n",
    "    train_df['target'] = y['train'+str(i+1)]\n",
    "    test_df['target'] = y['test'+str(i+1)]\n",
    "    \n",
    "    train_scores.append(f1_score(train_df.target, train_df.predictions))\n",
    "    test_scores.append(f1_score(test_df.target, test_df.predictions))\n",
    "    \n",
    "    train_predictions[str(i+1)] = train_df['predictions']\n",
    "    test_predictions[str(i+1)] = test_df['predictions']\n",
    "    \n",
    "    tree.fit(train_df[['titles', 'short_titles', 'log_reg', 'gbm', 'nn']], np.ravel(y['train'+str(i+1)]))\n",
    "    test_df['tree'] = tree.predict(test_df[['titles', 'short_titles', 'log_reg', 'gbm', 'nn']])\n",
    "    tree_scores.append(f1_score(test_df.target, test_df.tree))\n",
    "    "
   ]
  },
  {
   "cell_type": "code",
   "execution_count": 284,
   "metadata": {},
   "outputs": [
    {
     "name": "stdout",
     "output_type": "stream",
     "text": [
      "Train Scores: \n",
      "[0.7496402877697841, 0.868144690781797, 0.7212336892052195, 0.9826187717265353]\n"
     ]
    }
   ],
   "source": [
    "print('Train Scores: ')\n",
    "print(train_scores)"
   ]
  },
  {
   "cell_type": "code",
   "execution_count": 285,
   "metadata": {},
   "outputs": [
    {
     "name": "stdout",
     "output_type": "stream",
     "text": [
      "Test Scores: \n",
      "[0.6725274725274726, 0.7972027972027973, 0.5125628140703519, 0.9369369369369369]\n"
     ]
    }
   ],
   "source": [
    "print('Test Scores: ')\n",
    "print(test_scores)"
   ]
  },
  {
   "cell_type": "code",
   "execution_count": 286,
   "metadata": {},
   "outputs": [
    {
     "name": "stdout",
     "output_type": "stream",
     "text": [
      "Experiment: \n",
      "[0.6542655548428481, 0.7603305785123966, 0.49107142857142855, 0.9162995594713658]\n"
     ]
    }
   ],
   "source": [
    "print('Tree Scores: ')\n",
    "print(tree_scores)"
   ]
  },
  {
   "cell_type": "markdown",
   "metadata": {},
   "source": [
    "While there is certainly some overfitting, the average ensemble model produced higher test scores than any of the baseline models were able to accomplish during cross validation- where they were testing on data scaled and vecotrized with the training data, and so could be expected to perform worse on completely unseen data. While the decision tree ensemble also made an improvement over the solo models, the average ensemble performed better on each stage and required much less computation power."
   ]
  },
  {
   "cell_type": "code",
   "execution_count": null,
   "metadata": {},
   "outputs": [],
   "source": []
  }
 ],
 "metadata": {
  "kernelspec": {
   "display_name": "Python 3",
   "language": "python",
   "name": "python3"
  },
  "language_info": {
   "codemirror_mode": {
    "name": "ipython",
    "version": 3
   },
   "file_extension": ".py",
   "mimetype": "text/x-python",
   "name": "python",
   "nbconvert_exporter": "python",
   "pygments_lexer": "ipython3",
   "version": "3.7.4"
  }
 },
 "nbformat": 4,
 "nbformat_minor": 2
}
